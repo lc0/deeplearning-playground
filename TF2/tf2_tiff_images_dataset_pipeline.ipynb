{
  "nbformat": 4,
  "nbformat_minor": 0,
  "metadata": {
    "colab": {
      "name": "tf2-tiff-images-dataset-pipeline",
      "version": "0.3.2",
      "provenance": [],
      "collapsed_sections": [
        "UnOhpJ-PR6HN"
      ],
      "include_colab_link": true
    },
    "kernelspec": {
      "name": "python3",
      "display_name": "Python 3"
    }
  },
  "cells": [
    {
      "cell_type": "markdown",
      "metadata": {
        "id": "view-in-github",
        "colab_type": "text"
      },
      "source": [
        "<a href=\"https://colab.research.google.com/github/lc0/deeplearning-playground/blob/master/TF2/tf2_tiff_images_dataset_pipeline.ipynb\" target=\"_parent\"><img src=\"https://colab.research.google.com/assets/colab-badge.svg\" alt=\"Open In Colab\"/></a>"
      ]
    },
    {
      "metadata": {
        "id": "bahskCs761an",
        "colab_type": "code",
        "outputId": "f3ccc7a4-b60a-47c2-f4b9-fe38bccf6c04",
        "colab": {
          "base_uri": "https://localhost:8080/",
          "height": 360
        }
      },
      "cell_type": "code",
      "source": [
        "!pip install tf-nightly-gpu-2.0-preview"
      ],
      "execution_count": 0,
      "outputs": [
        {
          "output_type": "stream",
          "text": [
            "Requirement already satisfied: tf-nightly-gpu-2.0-preview in /usr/local/lib/python3.6/dist-packages (2.0.0.dev20190208)\n",
            "Requirement already satisfied: keras-applications>=1.0.6 in /usr/local/lib/python3.6/dist-packages (from tf-nightly-gpu-2.0-preview) (1.0.7)\n",
            "Requirement already satisfied: wheel>=0.26 in /usr/local/lib/python3.6/dist-packages (from tf-nightly-gpu-2.0-preview) (0.32.3)\n",
            "Requirement already satisfied: astor>=0.6.0 in /usr/local/lib/python3.6/dist-packages (from tf-nightly-gpu-2.0-preview) (0.7.1)\n",
            "Requirement already satisfied: grpcio>=1.8.6 in /usr/local/lib/python3.6/dist-packages (from tf-nightly-gpu-2.0-preview) (1.15.0)\n",
            "Requirement already satisfied: tensorflow-estimator-2.0-preview in /usr/local/lib/python3.6/dist-packages (from tf-nightly-gpu-2.0-preview) (1.13.0.dev2019012800)\n",
            "Requirement already satisfied: termcolor>=1.1.0 in /usr/local/lib/python3.6/dist-packages (from tf-nightly-gpu-2.0-preview) (1.1.0)\n",
            "Requirement already satisfied: protobuf>=3.6.1 in /usr/local/lib/python3.6/dist-packages (from tf-nightly-gpu-2.0-preview) (3.6.1)\n",
            "Requirement already satisfied: gast>=0.2.0 in /usr/local/lib/python3.6/dist-packages (from tf-nightly-gpu-2.0-preview) (0.2.2)\n",
            "Requirement already satisfied: numpy<2.0,>=1.14.5 in /usr/local/lib/python3.6/dist-packages (from tf-nightly-gpu-2.0-preview) (1.14.6)\n",
            "Requirement already satisfied: google-pasta>=0.1.1 in /usr/local/lib/python3.6/dist-packages (from tf-nightly-gpu-2.0-preview) (0.1.1)\n",
            "Requirement already satisfied: six>=1.10.0 in /usr/local/lib/python3.6/dist-packages (from tf-nightly-gpu-2.0-preview) (1.11.0)\n",
            "Requirement already satisfied: keras-preprocessing>=1.0.5 in /usr/local/lib/python3.6/dist-packages (from tf-nightly-gpu-2.0-preview) (1.0.9)\n",
            "Requirement already satisfied: absl-py>=0.1.6 in /usr/local/lib/python3.6/dist-packages (from tf-nightly-gpu-2.0-preview) (0.7.0)\n",
            "Requirement already satisfied: tb-nightly<1.14.0a0,>=1.13.0a0 in /usr/local/lib/python3.6/dist-packages (from tf-nightly-gpu-2.0-preview) (1.13.0a20190210)\n",
            "Requirement already satisfied: h5py in /usr/local/lib/python3.6/dist-packages (from keras-applications>=1.0.6->tf-nightly-gpu-2.0-preview) (2.8.0)\n",
            "Requirement already satisfied: setuptools in /usr/local/lib/python3.6/dist-packages (from protobuf>=3.6.1->tf-nightly-gpu-2.0-preview) (40.8.0)\n",
            "Requirement already satisfied: werkzeug>=0.11.15 in /usr/local/lib/python3.6/dist-packages (from tb-nightly<1.14.0a0,>=1.13.0a0->tf-nightly-gpu-2.0-preview) (0.14.1)\n",
            "Requirement already satisfied: markdown>=2.6.8 in /usr/local/lib/python3.6/dist-packages (from tb-nightly<1.14.0a0,>=1.13.0a0->tf-nightly-gpu-2.0-preview) (3.0.1)\n"
          ],
          "name": "stdout"
        }
      ]
    },
    {
      "metadata": {
        "id": "-evSwzeFR0_K",
        "colab_type": "text"
      },
      "cell_type": "markdown",
      "source": [
        "# Data"
      ]
    },
    {
      "metadata": {
        "id": "UnOhpJ-PR6HN",
        "colab_type": "text"
      },
      "cell_type": "markdown",
      "source": [
        "## initial training dataset"
      ]
    },
    {
      "metadata": {
        "id": "-HWyGjobR4P_",
        "colab_type": "code",
        "outputId": "dec9c1f9-2572-4435-8a44-a849030b9784",
        "colab": {
          "resources": {
            "http://localhost:8080/nbextensions/google.colab/files.js": {
              "data": "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",
              "ok": true,
              "headers": [
                [
                  "content-type",
                  "application/javascript"
                ]
              ],
              "status": 200,
              "status_text": ""
            }
          },
          "base_uri": "https://localhost:8080/",
          "height": 69
        }
      },
      "cell_type": "code",
      "source": [
        "from google.colab import files\n",
        "\n",
        "uploaded = files.upload()"
      ],
      "execution_count": 0,
      "outputs": [
        {
          "output_type": "display_data",
          "data": {
            "text/html": [
              "\n",
              "     <input type=\"file\" id=\"files-fa3913b4-b45a-4a2f-8c0b-e2bbd8616959\" name=\"files[]\" multiple disabled />\n",
              "     <output id=\"result-fa3913b4-b45a-4a2f-8c0b-e2bbd8616959\">\n",
              "      Upload widget is only available when the cell has been executed in the\n",
              "      current browser session. Please rerun this cell to enable.\n",
              "      </output>\n",
              "      <script src=\"/nbextensions/google.colab/files.js\"></script> "
            ],
            "text/plain": [
              "<IPython.core.display.HTML object>"
            ]
          },
          "metadata": {
            "tags": []
          }
        },
        {
          "output_type": "stream",
          "text": [
            "Saving photomask_trainingdata.zip to photomask_trainingdata.zip\n"
          ],
          "name": "stdout"
        }
      ]
    },
    {
      "metadata": {
        "id": "kjdIMZ9eSNXH",
        "colab_type": "code",
        "outputId": "674c7466-754c-4e15-e3e5-a538b67d5793",
        "colab": {
          "base_uri": "https://localhost:8080/",
          "height": 153
        }
      },
      "cell_type": "code",
      "source": [
        "!ls -la"
      ],
      "execution_count": 0,
      "outputs": [
        {
          "output_type": "stream",
          "text": [
            "total 5572\n",
            "drwxr-xr-x 1 root root    4096 Feb 10 14:57 .\n",
            "drwxr-xr-x 1 root root    4096 Feb 10 14:50 ..\n",
            "drwxr-xr-x 1 root root    4096 Feb  6 17:30 .config\n",
            "drwxr-xr-x 3 root root    4096 Feb 10 14:57 dataset\n",
            "-rw-r--r-- 1 root root 2430745 Feb 10 14:54 photomask_testdata.zip\n",
            "-rw-r--r-- 1 root root 3249054 Feb 10 14:56 photomask_trainingdata.zip\n",
            "drwxr-xr-x 1 root root    4096 Feb  6 17:31 sample_data\n"
          ],
          "name": "stdout"
        }
      ]
    },
    {
      "metadata": {
        "id": "aqDN2K_7Tc-x",
        "colab_type": "code",
        "colab": {}
      },
      "cell_type": "code",
      "source": [
        "!unzip photomask_trainingdata.zip -d dataset"
      ],
      "execution_count": 0,
      "outputs": []
    },
    {
      "metadata": {
        "id": "YyONXtKgTlJI",
        "colab_type": "code",
        "colab": {}
      },
      "cell_type": "code",
      "source": [
        "!rm -r dataset/__MACOSX/"
      ],
      "execution_count": 0,
      "outputs": []
    },
    {
      "metadata": {
        "id": "xb_gzYb2T38g",
        "colab_type": "code",
        "colab": {}
      },
      "cell_type": "code",
      "source": [
        "dataset_path = 'dataset/photomask_trainingdata/'"
      ],
      "execution_count": 0,
      "outputs": []
    },
    {
      "metadata": {
        "id": "HtoOoFjETtDw",
        "colab_type": "code",
        "outputId": "072c7943-50a9-4900-d4c5-234dd6d8777b",
        "colab": {
          "base_uri": "https://localhost:8080/",
          "height": 119
        }
      },
      "cell_type": "code",
      "source": [
        "!ls -la {dataset_path}"
      ],
      "execution_count": 0,
      "outputs": [
        {
          "output_type": "stream",
          "text": [
            "total 20\n",
            "drwxrwxrwx 5 root root 4096 Feb  5 17:17  .\n",
            "drwxr-xr-x 3 root root 4096 Feb 10 14:57  ..\n",
            "drwxrwxrwx 2 root root 4096 Feb  5 17:04  BORDERTOUCHER\n",
            "drwxrwxrwx 2 root root 4096 Feb  5 17:05 'COMPLETE FEATURE'\n",
            "drwxrwxrwx 2 root root 4096 Feb  5 17:04 'NO FEATURE'\n"
          ],
          "name": "stdout"
        }
      ]
    },
    {
      "metadata": {
        "id": "Vg_2f1mcSpJA",
        "colab_type": "text"
      },
      "cell_type": "markdown",
      "source": [
        "## TF Dataset based on the files"
      ]
    },
    {
      "metadata": {
        "id": "HxeXXIvySsLQ",
        "colab_type": "code",
        "outputId": "4f20f21e-78eb-43fd-92a3-62ccc6be6aec",
        "colab": {
          "base_uri": "https://localhost:8080/",
          "height": 34
        }
      },
      "cell_type": "code",
      "source": [
        "import tensorflow as tf\n",
        "\n",
        "tf.version.VERSION"
      ],
      "execution_count": 0,
      "outputs": [
        {
          "output_type": "execute_result",
          "data": {
            "text/plain": [
              "'2.0.0-dev20190208'"
            ]
          },
          "metadata": {
            "tags": []
          },
          "execution_count": 5
        }
      ]
    },
    {
      "metadata": {
        "id": "ESlfgTKbVoqx",
        "colab_type": "code",
        "colab": {}
      },
      "cell_type": "code",
      "source": [
        "work_image_size = [28, 28]\n",
        "\n",
        "batch_size = 16"
      ],
      "execution_count": 0,
      "outputs": []
    },
    {
      "metadata": {
        "id": "nxYSelu-WGqG",
        "colab_type": "code",
        "colab": {}
      },
      "cell_type": "code",
      "source": [
        "from os import listdir, path\n",
        "\n",
        "class_names = listdir(dataset_path)\n",
        "# print(class_names)\n",
        "\n",
        "class_folders = [(idx, path.join(dataset_path, class_name)) for idx, class_name in enumerate(class_names)]\n",
        "# print(class_folders)"
      ],
      "execution_count": 0,
      "outputs": []
    },
    {
      "metadata": {
        "id": "rBRpk3phUyBm",
        "colab_type": "code",
        "outputId": "0f71ede4-582b-4b44-dba0-6830892997de",
        "colab": {
          "base_uri": "https://localhost:8080/",
          "height": 34
        }
      },
      "cell_type": "code",
      "source": [
        "filenames = []\n",
        "class_ids = []\n",
        "for class_id, folder in class_folders:\n",
        "  files = listdir(folder)\n",
        "  \n",
        "  filenames.extend([path.join(folder, filename) for filename in listdir(folder)])\n",
        "  class_ids.extend([class_id for filename in listdir(folder)])\n",
        "\n",
        "\n",
        "print(len(filenames))\n",
        "assert len(class_ids) == len(class_ids)"
      ],
      "execution_count": 0,
      "outputs": [
        {
          "output_type": "stream",
          "text": [
            "111\n"
          ],
          "name": "stdout"
        }
      ]
    },
    {
      "metadata": {
        "id": "wH2NMVREDUA7",
        "colab_type": "text"
      },
      "cell_type": "markdown",
      "source": [
        "Unfortunately `tf.py_function` can only return a tuple. With generic `map` we can work with `dict` interface"
      ]
    },
    {
      "metadata": {
        "id": "xnWV25GPuMGE",
        "colab_type": "code",
        "colab": {}
      },
      "cell_type": "code",
      "source": [
        "from PIL import Image\n",
        "import numpy as np\n",
        "\n",
        "def parse_tiff_py(filename, class_id):\n",
        "    print(filename.numpy())\n",
        "    \n",
        "    im = Image.open(filename.numpy())\n",
        "    im = im.resize(work_image_size)\n",
        "    \n",
        "    return np.array(im), class_id"
      ],
      "execution_count": 0,
      "outputs": []
    },
    {
      "metadata": {
        "id": "hZ1NDRvMDseJ",
        "colab_type": "text"
      },
      "cell_type": "markdown",
      "source": [
        "Now we just need to add our python function to `dataset` pipeline. We can do with follow `lambda` trick"
      ]
    },
    {
      "metadata": {
        "id": "LOhA4Ym8U2Hz",
        "colab_type": "code",
        "outputId": "68dc2b38-0080-4726-aff5-d62ead4d12d5",
        "colab": {
          "base_uri": "https://localhost:8080/",
          "height": 34
        }
      },
      "cell_type": "code",
      "source": [
        "dataset = tf.data.Dataset.from_tensor_slices((filenames, class_ids))\n",
        "dataset = dataset.shuffle(len(filenames))\n",
        "\n",
        "dataset = dataset.map(lambda filename, label: tf.py_function(\n",
        "              parse_tiff_py, \n",
        "              (filename, label),  \n",
        "              [tf.uint8, label.dtype]))\n",
        "\n",
        "dataset"
      ],
      "execution_count": 0,
      "outputs": [
        {
          "output_type": "execute_result",
          "data": {
            "text/plain": [
              "<MapDataset shapes: (<unknown>, <unknown>), types: (tf.uint8, tf.int32)>"
            ]
          },
          "metadata": {
            "tags": []
          },
          "execution_count": 10
        }
      ]
    },
    {
      "metadata": {
        "id": "rDG_Sg5eZNjM",
        "colab_type": "code",
        "outputId": "900503ce-95a0-42fe-f340-2320213dcc4d",
        "colab": {
          "base_uri": "https://localhost:8080/",
          "height": 1479
        }
      },
      "cell_type": "code",
      "source": [
        "for row in dataset.take(1):\n",
        "  print(row)\n",
        "  image = row[0]\n",
        "  label = row[1]"
      ],
      "execution_count": 0,
      "outputs": [
        {
          "output_type": "stream",
          "text": [
            "b'dataset/photomask_trainingdata/COMPLETE FEATURE/028_2.tif'\n",
            "(<tf.Tensor: id=28, shape=(28, 28), dtype=uint8, numpy=\n",
            "array([[151, 151, 172, 153, 148, 155, 149, 157, 147, 150, 148, 167, 147,\n",
            "        163, 172, 151, 192, 156, 158, 163, 167, 169, 153, 149, 154, 130,\n",
            "        174, 143],\n",
            "       [173, 152, 166, 186, 164, 136, 141, 164, 178, 130, 172, 168, 156,\n",
            "        194, 166, 174, 165, 157, 164, 153, 174, 171, 136, 151, 161, 160,\n",
            "        152, 172],\n",
            "       [147, 141, 161, 156, 169, 177, 143, 165, 171, 153, 145, 153, 196,\n",
            "        156, 166, 152, 156, 167, 151, 175, 172, 138, 169, 169, 132, 179,\n",
            "        162, 165],\n",
            "       [187, 148, 160, 138, 144, 162, 167, 154, 150, 160, 161, 156, 144,\n",
            "        145, 181, 158, 152, 197, 154, 151, 181, 177, 158, 138, 196, 164,\n",
            "        176, 170],\n",
            "       [139, 143, 142, 155, 182, 164, 166, 166, 149, 147, 151, 134, 144,\n",
            "        150, 166, 171, 177, 137, 162, 165, 188, 150, 153, 152, 148, 154,\n",
            "        157, 160],\n",
            "       [167, 177, 172, 170, 153, 150, 172, 161, 151, 141, 153, 139, 151,\n",
            "        158, 125, 147, 169, 148, 151, 144, 152, 183, 171, 166, 157, 148,\n",
            "        155, 140],\n",
            "       [142, 154, 134, 159, 164, 180, 169, 166, 173, 168, 166, 166, 157,\n",
            "        139, 160, 168, 143, 164, 141, 151, 149, 164, 171, 150, 175, 174,\n",
            "        166, 162],\n",
            "       [192, 151, 163, 164, 186, 177, 162, 176, 169, 172, 140, 155, 169,\n",
            "        148, 155, 179, 145, 173, 180, 170, 139, 134, 174, 152, 172, 146,\n",
            "        159, 185],\n",
            "       [152, 137, 148, 155, 164, 169, 176, 160, 176, 154, 163, 169, 164,\n",
            "        167, 148, 162, 143, 147, 150, 154, 153, 150, 155, 144, 163, 173,\n",
            "        142, 150],\n",
            "       [155, 192, 181, 127, 152, 166, 159, 169, 156, 166, 164, 164, 163,\n",
            "        168, 141, 162, 173, 156, 142, 189, 149, 125, 204, 150, 175, 169,\n",
            "        201, 172],\n",
            "       [144, 162, 177, 156, 188, 155, 161, 160, 150, 170, 135, 169, 180,\n",
            "        175, 149, 162, 167, 155, 148, 176, 150, 162, 137, 143, 172, 170,\n",
            "        168, 168],\n",
            "       [154, 186, 162, 150, 125, 187, 141, 160, 145, 166, 159, 184, 156,\n",
            "        152, 141, 145, 130, 171, 156, 126, 159, 142, 176, 176, 175, 152,\n",
            "        161, 172],\n",
            "       [142, 134, 140, 151, 149, 185, 155, 141, 148, 157, 173, 213, 211,\n",
            "        161, 143, 182, 150, 170, 162, 158, 145, 148, 151, 143, 176, 176,\n",
            "        154, 152],\n",
            "       [179, 174, 162, 168, 146, 163, 158, 159, 152, 150, 140, 208, 178,\n",
            "        173, 182, 178, 195, 167, 137, 165, 159, 145, 130, 146, 170, 190,\n",
            "        147, 162],\n",
            "       [149, 139, 157, 157, 151, 197, 175, 177, 150, 151, 204, 215, 165,\n",
            "        172, 217, 176, 172, 169, 163, 172, 165, 155, 173, 136, 147, 154,\n",
            "        133, 150],\n",
            "       [146, 146, 194, 163, 165, 149, 146, 123, 167, 136, 178, 232, 215,\n",
            "        216, 241, 177, 154, 150, 151, 176, 144, 144, 164, 196, 155, 155,\n",
            "        168, 160],\n",
            "       [162, 163, 161, 163, 154, 162, 148, 166, 134, 138, 230, 227, 195,\n",
            "        187, 180, 151, 169, 156, 166, 152, 144, 138, 139, 167, 140, 160,\n",
            "        160, 174],\n",
            "       [144, 134, 173, 155, 157, 161, 128, 134, 143, 163, 159, 182, 161,\n",
            "        196, 166, 153, 160, 190, 150, 173, 159, 172, 156, 161, 162, 169,\n",
            "        162, 147],\n",
            "       [182, 152, 139, 167, 143, 171, 163, 177, 130, 168, 146, 152, 176,\n",
            "        174, 158, 163, 144, 135, 149, 151, 148, 151, 157, 138, 186, 148,\n",
            "        168, 165],\n",
            "       [158, 166, 155, 157, 152, 179, 164, 149, 163, 157, 155, 155, 134,\n",
            "        138, 170, 164, 163, 156, 146, 145, 161, 143, 161, 203, 148, 190,\n",
            "        152, 168],\n",
            "       [157, 193, 156, 144, 171, 169, 137, 156, 137, 140, 149, 174, 158,\n",
            "        166, 145, 189, 157, 138, 158, 161, 157, 145, 178, 171, 147, 176,\n",
            "        171, 141],\n",
            "       [169, 159, 156, 169, 158, 136, 154, 156, 170, 154, 140, 157, 169,\n",
            "        161, 153, 178, 140, 160, 161, 167, 146, 167, 147, 165, 186, 183,\n",
            "        172, 152],\n",
            "       [151, 152, 172, 187, 195, 192, 139, 191, 168, 158, 150, 139, 157,\n",
            "        173, 159, 168, 159, 170, 149, 136, 138, 178, 146, 154, 139, 158,\n",
            "        156, 171],\n",
            "       [153, 137, 203, 156, 167, 139, 164, 157, 137, 150, 156, 167, 138,\n",
            "        151, 159, 173, 155, 151, 143, 162, 135, 205, 140, 155, 146, 150,\n",
            "        177, 158],\n",
            "       [125, 165, 193, 167, 167, 166, 144, 136, 149, 145, 161, 155, 138,\n",
            "        151, 167, 153, 136, 128, 172, 151, 169, 144, 160, 149, 138, 156,\n",
            "        159, 157],\n",
            "       [189, 179, 154, 149, 140, 150, 135, 149, 170, 147, 137, 161, 145,\n",
            "        164, 186, 162, 161, 151, 134, 172, 174, 145, 137, 150, 170, 160,\n",
            "        169, 175],\n",
            "       [147, 146, 155, 175, 172, 157, 189, 154, 147, 148, 161, 165, 133,\n",
            "        151, 175, 172, 180, 145, 148, 171, 167, 141, 171, 166, 131, 163,\n",
            "        153, 155],\n",
            "       [180, 184, 137, 152, 163, 179, 140, 145, 165, 168, 130, 135, 179,\n",
            "        145, 141, 166, 179, 181, 159, 160, 178, 163, 161, 162, 140, 136,\n",
            "        178, 193]], dtype=uint8)>, <tf.Tensor: id=29, shape=(), dtype=int32, numpy=1>)\n"
          ],
          "name": "stdout"
        }
      ]
    },
    {
      "metadata": {
        "id": "zl0cR3ZWuoGy",
        "colab_type": "code",
        "outputId": "4aa92903-3b38-43a7-d848-9979a6747586",
        "colab": {
          "base_uri": "https://localhost:8080/",
          "height": 381
        }
      },
      "cell_type": "code",
      "source": [
        "import matplotlib.pyplot as plt\n",
        "\n",
        "print(image.shape)\n",
        "plt.imshow(image, cmap=plt.get_cmap(\"gray\"))\n",
        "\n",
        "print(f\"Label - {class_names[label]}\")"
      ],
      "execution_count": 0,
      "outputs": [
        {
          "output_type": "stream",
          "text": [
            "(28, 28)\n",
            "Label - COMPLETE FEATURE\n"
          ],
          "name": "stdout"
        },
        {
          "output_type": "display_data",
          "data": {
            "image/png": "[encoded data removed]",
            "text/plain": [
              "<Figure size 576x396 with 1 Axes>"
            ]
          },
          "metadata": {
            "tags": []
          }
        }
      ]
    },
    {
      "metadata": {
        "id": "tdNHyikBDMqY",
        "colab_type": "code",
        "colab": {}
      },
      "cell_type": "code",
      "source": [
        ""
      ],
      "execution_count": 0,
      "outputs": []
    }
  ]
}
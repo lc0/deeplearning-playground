{
  "nbformat": 4,
  "nbformat_minor": 0,
  "metadata": {
    "colab": {
      "name": "tf2-tiff-images-dataset-pipeline",
      "version": "0.3.2",
      "provenance": [],
      "collapsed_sections": [
        "UnOhpJ-PR6HN"
      ],
      "include_colab_link": true
    },
    "kernelspec": {
      "name": "python3",
      "display_name": "Python 3"
    }
  },
  "cells": [
    {
      "cell_type": "markdown",
      "metadata": {
        "id": "view-in-github",
        "colab_type": "text"
      },
      "source": [
        "<a href=\"https://colab.research.google.com/github/lc0/deeplearning-playground/blob/master/TF2/tf2_tiff_images_dataset_pipeline.ipynb\" target=\"_parent\"><img src=\"https://colab.research.google.com/assets/colab-badge.svg\" alt=\"Open In Colab\"/></a>"
      ]
    },
    {
      "cell_type": "code",
      "metadata": {
        "id": "bahskCs761an",
        "colab_type": "code",
        "outputId": "c82e2815-7d66-4e7c-a26f-fe5df059785f",
        "colab": {
          "base_uri": "https://localhost:8080/",
          "height": 632
        }
      },
      "source": [
        "!pip install tf-nightly-gpu-2.0-preview"
      ],
      "execution_count": 1,
      "outputs": [
        {
          "output_type": "stream",
          "text": [
            "Collecting tf-nightly-gpu-2.0-preview\n",
            "\u001b[?25l  Downloading https://files.pythonhosted.org/packages/75/90/a45df7a91472cc128beb0a9e4824aeb1c375bce2f35fd034fcf609118364/tf_nightly_gpu_2.0_preview-2.0.0.dev20190628-cp36-cp36m-manylinux1_x86_64.whl (369.5MB)\n",
            "\u001b[K     |████████████████████████████████| 369.5MB 51kB/s \n",
            "\u001b[?25hCollecting tensorflow-estimator-2.0-preview (from tf-nightly-gpu-2.0-preview)\n",
            "\u001b[?25l  Downloading https://files.pythonhosted.org/packages/15/2a/48aa97225aa45b9a53ddc26164952b32fab5d3f41e275617877f71f70163/tensorflow_estimator_2.0_preview-1.14.0.dev2019062700-py2.py3-none-any.whl (447kB)\n",
            "\u001b[K     |████████████████████████████████| 450kB 37.1MB/s \n",
            "\u001b[?25hRequirement already satisfied: six>=1.10.0 in /usr/local/lib/python3.6/dist-packages (from tf-nightly-gpu-2.0-preview) (1.12.0)\n",
            "Requirement already satisfied: absl-py>=0.7.0 in /usr/local/lib/python3.6/dist-packages (from tf-nightly-gpu-2.0-preview) (0.7.1)\n",
            "Requirement already satisfied: google-pasta>=0.1.6 in /usr/local/lib/python3.6/dist-packages (from tf-nightly-gpu-2.0-preview) (0.1.7)\n",
            "Requirement already satisfied: protobuf>=3.6.1 in /usr/local/lib/python3.6/dist-packages (from tf-nightly-gpu-2.0-preview) (3.7.1)\n",
            "Requirement already satisfied: termcolor>=1.1.0 in /usr/local/lib/python3.6/dist-packages (from tf-nightly-gpu-2.0-preview) (1.1.0)\n",
            "Requirement already satisfied: wrapt>=1.11.1 in /usr/local/lib/python3.6/dist-packages (from tf-nightly-gpu-2.0-preview) (1.11.1)\n",
            "Requirement already satisfied: keras-applications>=1.0.8 in /usr/local/lib/python3.6/dist-packages (from tf-nightly-gpu-2.0-preview) (1.0.8)\n",
            "Requirement already satisfied: keras-preprocessing>=1.0.5 in /usr/local/lib/python3.6/dist-packages (from tf-nightly-gpu-2.0-preview) (1.1.0)\n",
            "Requirement already satisfied: astor>=0.6.0 in /usr/local/lib/python3.6/dist-packages (from tf-nightly-gpu-2.0-preview) (0.8.0)\n",
            "Requirement already satisfied: grpcio>=1.8.6 in /usr/local/lib/python3.6/dist-packages (from tf-nightly-gpu-2.0-preview) (1.15.0)\n",
            "Requirement already satisfied: wheel>=0.26 in /usr/local/lib/python3.6/dist-packages (from tf-nightly-gpu-2.0-preview) (0.33.4)\n",
            "Collecting opt-einsum>=2.3.2 (from tf-nightly-gpu-2.0-preview)\n",
            "\u001b[?25l  Downloading https://files.pythonhosted.org/packages/f6/d6/44792ec668bcda7d91913c75237314e688f70415ab2acd7172c845f0b24f/opt_einsum-2.3.2.tar.gz (59kB)\n",
            "\u001b[K     |████████████████████████████████| 61kB 19.0MB/s \n",
            "\u001b[?25hRequirement already satisfied: numpy<2.0,>=1.14.5 in /usr/local/lib/python3.6/dist-packages (from tf-nightly-gpu-2.0-preview) (1.16.4)\n",
            "Collecting tb-nightly<1.15.0a0,>=1.14.0a0 (from tf-nightly-gpu-2.0-preview)\n",
            "\u001b[?25l  Downloading https://files.pythonhosted.org/packages/3a/60/afa129c3621d62c885599076f8e89737d66e5dfffad1a08842b1c11b4540/tb_nightly-1.14.0a20190614-py3-none-any.whl (3.1MB)\n",
            "\u001b[K     |████████████████████████████████| 3.2MB 29.8MB/s \n",
            "\u001b[?25hRequirement already satisfied: gast>=0.2.0 in /usr/local/lib/python3.6/dist-packages (from tf-nightly-gpu-2.0-preview) (0.2.2)\n",
            "Requirement already satisfied: setuptools in /usr/local/lib/python3.6/dist-packages (from protobuf>=3.6.1->tf-nightly-gpu-2.0-preview) (41.0.1)\n",
            "Requirement already satisfied: h5py in /usr/local/lib/python3.6/dist-packages (from keras-applications>=1.0.8->tf-nightly-gpu-2.0-preview) (2.8.0)\n",
            "Requirement already satisfied: markdown>=2.6.8 in /usr/local/lib/python3.6/dist-packages (from tb-nightly<1.15.0a0,>=1.14.0a0->tf-nightly-gpu-2.0-preview) (3.1.1)\n",
            "Requirement already satisfied: werkzeug>=0.11.15 in /usr/local/lib/python3.6/dist-packages (from tb-nightly<1.15.0a0,>=1.14.0a0->tf-nightly-gpu-2.0-preview) (0.15.4)\n",
            "Building wheels for collected packages: opt-einsum\n",
            "  Building wheel for opt-einsum (setup.py) ... \u001b[?25l\u001b[?25hdone\n",
            "  Stored in directory: /root/.cache/pip/wheels/51/3e/a3/b351fae0cbf15373c2136a54a70f43fea5fe91d8168a5faaa4\n",
            "Successfully built opt-einsum\n",
            "Installing collected packages: tensorflow-estimator-2.0-preview, opt-einsum, tb-nightly, tf-nightly-gpu-2.0-preview\n",
            "Successfully installed opt-einsum-2.3.2 tb-nightly-1.14.0a20190614 tensorflow-estimator-2.0-preview-1.14.0.dev2019062700 tf-nightly-gpu-2.0-preview-2.0.0.dev20190628\n"
          ],
          "name": "stdout"
        }
      ]
    },
    {
      "cell_type": "markdown",
      "metadata": {
        "id": "-evSwzeFR0_K",
        "colab_type": "text"
      },
      "source": [
        "# Data"
      ]
    },
    {
      "cell_type": "markdown",
      "metadata": {
        "id": "UnOhpJ-PR6HN",
        "colab_type": "text"
      },
      "source": [
        "## initial training dataset"
      ]
    },
    {
      "cell_type": "code",
      "metadata": {
        "id": "-HWyGjobR4P_",
        "colab_type": "code",
        "outputId": "637786e7-2fd3-4087-c3ee-178d67493935",
        "colab": {
          "resources": {
            "http://localhost:8080/nbextensions/google.colab/files.js": {
              "data": "Ly8gQ29weXJpZ2h0IDIwMTcgR29vZ2xlIExMQwovLwovLyBMaWNlbnNlZCB1bmRlciB0aGUgQXBhY2hlIExpY2Vuc2UsIFZlcnNpb24gMi4wICh0aGUgIkxpY2Vuc2UiKTsKLy8geW91IG1heSBub3QgdXNlIHRoaXMgZmlsZSBleGNlcHQgaW4gY29tcGxpYW5jZSB3aXRoIHRoZSBMaWNlbnNlLgovLyBZb3UgbWF5IG9idGFpbiBhIGNvcHkgb2YgdGhlIExpY2Vuc2UgYXQKLy8KLy8gICAgICBodHRwOi8vd3d3LmFwYWNoZS5vcmcvbGljZW5zZXMvTElDRU5TRS0yLjAKLy8KLy8gVW5sZXNzIHJlcXVpcmVkIGJ5IGFwcGxpY2FibGUgbGF3IG9yIGFncmVlZCB0byBpbiB3cml0aW5nLCBzb2Z0d2FyZQovLyBkaXN0cmlidXRlZCB1bmRlciB0aGUgTGljZW5zZSBpcyBkaXN0cmlidXRlZCBvbiBhbiAiQVMgSVMiIEJBU0lTLAovLyBXSVRIT1VUIFdBUlJBTlRJRVMgT1IgQ09ORElUSU9OUyBPRiBBTlkgS0lORCwgZWl0aGVyIGV4cHJlc3Mgb3IgaW1wbGllZC4KLy8gU2VlIHRoZSBMaWNlbnNlIGZvciB0aGUgc3BlY2lmaWMgbGFuZ3VhZ2UgZ292ZXJuaW5nIHBlcm1pc3Npb25zIGFuZAovLyBsaW1pdGF0aW9ucyB1bmRlciB0aGUgTGljZW5zZS4KCi8qKgogKiBAZmlsZW92ZXJ2aWV3IEhlbHBlcnMgZm9yIGdvb2dsZS5jb2xhYiBQeXRob24gbW9kdWxlLgogKi8KKGZ1bmN0aW9uKHNjb3BlKSB7CmZ1bmN0aW9uIHNwYW4odGV4dCwgc3R5bGVBdHRyaWJ1dGVzID0ge30pIHsKICBjb25zdCBlbGVtZW50ID0gZG9jdW1lbnQuY3JlYXRlRWxlbWVudCgnc3BhbicpOwogIGVsZW1lbnQudGV4dENvbnRlbnQgPSB0ZXh0OwogIGZvciAoY29uc3Qga2V5IG9mIE9iamVjdC5rZXlzKHN0eWxlQXR0cmlidXRlcykpIHsKICAgIGVsZW1lbnQuc3R5bGVba2V5XSA9IHN0eWxlQXR0cmlidXRlc1trZXldOwogIH0KICByZXR1cm4gZWxlbWVudDsKfQoKLy8gTWF4IG51bWJlciBvZiBieXRlcyB3aGljaCB3aWxsIGJlIHVwbG9hZGVkIGF0IGEgdGltZS4KY29uc3QgTUFYX1BBWUxPQURfU0laRSA9IDEwMCAqIDEwMjQ7Ci8vIE1heCBhbW91bnQgb2YgdGltZSB0byBibG9jayB3YWl0aW5nIGZvciB0aGUgdXNlci4KY29uc3QgRklMRV9DSEFOR0VfVElNRU9VVF9NUyA9IDMwICogMTAwMDsKCmZ1bmN0aW9uIF91cGxvYWRGaWxlcyhpbnB1dElkLCBvdXRwdXRJZCkgewogIGNvbnN0IHN0ZXBzID0gdXBsb2FkRmlsZXNTdGVwKGlucHV0SWQsIG91dHB1dElkKTsKICBjb25zdCBvdXRwdXRFbGVtZW50ID0gZG9jdW1lbnQuZ2V0RWxlbWVudEJ5SWQob3V0cHV0SWQpOwogIC8vIENhY2hlIHN0ZXBzIG9uIHRoZSBvdXRwdXRFbGVtZW50IHRvIG1ha2UgaXQgYXZhaWxhYmxlIGZvciB0aGUgbmV4dCBjYWxsCiAgLy8gdG8gdXBsb2FkRmlsZXNDb250aW51ZSBmcm9tIFB5dGhvbi4KICBvdXRwdXRFbGVtZW50LnN0ZXBzID0gc3RlcHM7CgogIHJldHVybiBfdXBsb2FkRmlsZXNDb250aW51ZShvdXRwdXRJZCk7Cn0KCi8vIFRoaXMgaXMgcm91Z2hseSBhbiBhc3luYyBnZW5lcmF0b3IgKG5vdCBzdXBwb3J0ZWQgaW4gdGhlIGJyb3dzZXIgeWV0KSwKLy8gd2hlcmUgdGhlcmUgYXJlIG11bHRpcGxlIGFzeW5jaHJvbm91cyBzdGVwcyBhbmQgdGhlIFB5dGhvbiBzaWRlIGlzIGdvaW5nCi8vIHRvIHBvbGwgZm9yIGNvbXBsZXRpb24gb2YgZWFjaCBzdGVwLgovLyBUaGlzIHVzZXMgYSBQcm9taXNlIHRvIGJsb2NrIHRoZSBweXRob24gc2lkZSBvbiBjb21wbGV0aW9uIG9mIGVhY2ggc3RlcCwKLy8gdGhlbiBwYXNzZXMgdGhlIHJlc3VsdCBvZiB0aGUgcHJldmlvdXMgc3RlcCBhcyB0aGUgaW5wdXQgdG8gdGhlIG5leHQgc3RlcC4KZnVuY3Rpb24gX3VwbG9hZEZpbGVzQ29udGludWUob3V0cHV0SWQpIHsKICBjb25zdCBvdXRwdXRFbGVtZW50ID0gZG9jdW1lbnQuZ2V0RWxlbWVudEJ5SWQob3V0cHV0SWQpOwogIGNvbnN0IHN0ZXBzID0gb3V0cHV0RWxlbWVudC5zdGVwczsKCiAgY29uc3QgbmV4dCA9IHN0ZXBzLm5leHQob3V0cHV0RWxlbWVudC5sYXN0UHJvbWlzZVZhbHVlKTsKICByZXR1cm4gUHJvbWlzZS5yZXNvbHZlKG5leHQudmFsdWUucHJvbWlzZSkudGhlbigodmFsdWUpID0+IHsKICAgIC8vIENhY2hlIHRoZSBsYXN0IHByb21pc2UgdmFsdWUgdG8gbWFrZSBpdCBhdmFpbGFibGUgdG8gdGhlIG5leHQKICAgIC8vIHN0ZXAgb2YgdGhlIGdlbmVyYXRvci4KICAgIG91dHB1dEVsZW1lbnQubGFzdFByb21pc2VWYWx1ZSA9IHZhbHVlOwogICAgcmV0dXJuIG5leHQudmFsdWUucmVzcG9uc2U7CiAgfSk7Cn0KCi8qKgogKiBHZW5lcmF0b3IgZnVuY3Rpb24gd2hpY2ggaXMgY2FsbGVkIGJldHdlZW4gZWFjaCBhc3luYyBzdGVwIG9mIHRoZSB1cGxvYWQKICogcHJvY2Vzcy4KICogQHBhcmFtIHtzdHJpbmd9IGlucHV0SWQgRWxlbWVudCBJRCBvZiB0aGUgaW5wdXQgZmlsZSBwaWNrZXIgZWxlbWVudC4KICogQHBhcmFtIHtzdHJpbmd9IG91dHB1dElkIEVsZW1lbnQgSUQgb2YgdGhlIG91dHB1dCBkaXNwbGF5LgogKiBAcmV0dXJuIHshSXRlcmFibGU8IU9iamVjdD59IEl0ZXJhYmxlIG9mIG5leHQgc3RlcHMuCiAqLwpmdW5jdGlvbiogdXBsb2FkRmlsZXNTdGVwKGlucHV0SWQsIG91dHB1dElkKSB7CiAgY29uc3QgaW5wdXRFbGVtZW50ID0gZG9jdW1lbnQuZ2V0RWxlbWVudEJ5SWQoaW5wdXRJZCk7CiAgaW5wdXRFbGVtZW50LmRpc2FibGVkID0gZmFsc2U7CgogIGNvbnN0IG91dHB1dEVsZW1lbnQgPSBkb2N1bWVudC5nZXRFbGVtZW50QnlJZChvdXRwdXRJZCk7CiAgb3V0cHV0RWxlbWVudC5pbm5lckhUTUwgPSAnJzsKCiAgY29uc3QgcGlja2VkUHJvbWlzZSA9IG5ldyBQcm9taXNlKChyZXNvbHZlKSA9PiB7CiAgICBpbnB1dEVsZW1lbnQuYWRkRXZlbnRMaXN0ZW5lcignY2hhbmdlJywgKGUpID0+IHsKICAgICAgcmVzb2x2ZShlLnRhcmdldC5maWxlcyk7CiAgICB9KTsKICB9KTsKCiAgY29uc3QgY2FuY2VsID0gZG9jdW1lbnQuY3JlYXRlRWxlbWVudCgnYnV0dG9uJyk7CiAgaW5wdXRFbGVtZW50LnBhcmVudEVsZW1lbnQuYXBwZW5kQ2hpbGQoY2FuY2VsKTsKICBjYW5jZWwudGV4dENvbnRlbnQgPSAnQ2FuY2VsIHVwbG9hZCc7CiAgY29uc3QgY2FuY2VsUHJvbWlzZSA9IG5ldyBQcm9taXNlKChyZXNvbHZlKSA9PiB7CiAgICBjYW5jZWwub25jbGljayA9ICgpID0+IHsKICAgICAgcmVzb2x2ZShudWxsKTsKICAgIH07CiAgfSk7CgogIC8vIENhbmNlbCB1cGxvYWQgaWYgdXNlciBoYXNuJ3QgcGlja2VkIGFueXRoaW5nIGluIHRpbWVvdXQuCiAgY29uc3QgdGltZW91dFByb21pc2UgPSBuZXcgUHJvbWlzZSgocmVzb2x2ZSkgPT4gewogICAgc2V0VGltZW91dCgoKSA9PiB7CiAgICAgIHJlc29sdmUobnVsbCk7CiAgICB9LCBGSUxFX0NIQU5HRV9USU1FT1VUX01TKTsKICB9KTsKCiAgLy8gV2FpdCBmb3IgdGhlIHVzZXIgdG8gcGljayB0aGUgZmlsZXMuCiAgY29uc3QgZmlsZXMgPSB5aWVsZCB7CiAgICBwcm9taXNlOiBQcm9taXNlLnJhY2UoW3BpY2tlZFByb21pc2UsIHRpbWVvdXRQcm9taXNlLCBjYW5jZWxQcm9taXNlXSksCiAgICByZXNwb25zZTogewogICAgICBhY3Rpb246ICdzdGFydGluZycsCiAgICB9CiAgfTsKCiAgaWYgKCFmaWxlcykgewogICAgcmV0dXJuIHsKICAgICAgcmVzcG9uc2U6IHsKICAgICAgICBhY3Rpb246ICdjb21wbGV0ZScsCiAgICAgIH0KICAgIH07CiAgfQoKICBjYW5jZWwucmVtb3ZlKCk7CgogIC8vIERpc2FibGUgdGhlIGlucHV0IGVsZW1lbnQgc2luY2UgZnVydGhlciBwaWNrcyBhcmUgbm90IGFsbG93ZWQuCiAgaW5wdXRFbGVtZW50LmRpc2FibGVkID0gdHJ1ZTsKCiAgZm9yIChjb25zdCBmaWxlIG9mIGZpbGVzKSB7CiAgICBjb25zdCBsaSA9IGRvY3VtZW50LmNyZWF0ZUVsZW1lbnQoJ2xpJyk7CiAgICBsaS5hcHBlbmQoc3BhbihmaWxlLm5hbWUsIHtmb250V2VpZ2h0OiAnYm9sZCd9KSk7CiAgICBsaS5hcHBlbmQoc3BhbigKICAgICAgICBgKCR7ZmlsZS50eXBlIHx8ICduL2EnfSkgLSAke2ZpbGUuc2l6ZX0gYnl0ZXMsIGAgKwogICAgICAgIGBsYXN0IG1vZGlmaWVkOiAkewogICAgICAgICAgICBmaWxlLmxhc3RNb2RpZmllZERhdGUgPyBmaWxlLmxhc3RNb2RpZmllZERhdGUudG9Mb2NhbGVEYXRlU3RyaW5nKCkgOgogICAgICAgICAgICAgICAgICAgICAgICAgICAgICAgICAgICAnbi9hJ30gLSBgKSk7CiAgICBjb25zdCBwZXJjZW50ID0gc3BhbignMCUgZG9uZScpOwogICAgbGkuYXBwZW5kQ2hpbGQocGVyY2VudCk7CgogICAgb3V0cHV0RWxlbWVudC5hcHBlbmRDaGlsZChsaSk7CgogICAgY29uc3QgZmlsZURhdGFQcm9taXNlID0gbmV3IFByb21pc2UoKHJlc29sdmUpID0+IHsKICAgICAgY29uc3QgcmVhZGVyID0gbmV3IEZpbGVSZWFkZXIoKTsKICAgICAgcmVhZGVyLm9ubG9hZCA9IChlKSA9PiB7CiAgICAgICAgcmVzb2x2ZShlLnRhcmdldC5yZXN1bHQpOwogICAgICB9OwogICAgICByZWFkZXIucmVhZEFzQXJyYXlCdWZmZXIoZmlsZSk7CiAgICB9KTsKICAgIC8vIFdhaXQgZm9yIHRoZSBkYXRhIHRvIGJlIHJlYWR5LgogICAgbGV0IGZpbGVEYXRhID0geWllbGQgewogICAgICBwcm9taXNlOiBmaWxlRGF0YVByb21pc2UsCiAgICAgIHJlc3BvbnNlOiB7CiAgICAgICAgYWN0aW9uOiAnY29udGludWUnLAogICAgICB9CiAgICB9OwoKICAgIC8vIFVzZSBhIGNodW5rZWQgc2VuZGluZyB0byBhdm9pZCBtZXNzYWdlIHNpemUgbGltaXRzLiBTZWUgYi82MjExNTY2MC4KICAgIGxldCBwb3NpdGlvbiA9IDA7CiAgICB3aGlsZSAocG9zaXRpb24gPCBmaWxlRGF0YS5ieXRlTGVuZ3RoKSB7CiAgICAgIGNvbnN0IGxlbmd0aCA9IE1hdGgubWluKGZpbGVEYXRhLmJ5dGVMZW5ndGggLSBwb3NpdGlvbiwgTUFYX1BBWUxPQURfU0laRSk7CiAgICAgIGNvbnN0IGNodW5rID0gbmV3IFVpbnQ4QXJyYXkoZmlsZURhdGEsIHBvc2l0aW9uLCBsZW5ndGgpOwogICAgICBwb3NpdGlvbiArPSBsZW5ndGg7CgogICAgICBjb25zdCBiYXNlNjQgPSBidG9hKFN0cmluZy5mcm9tQ2hhckNvZGUuYXBwbHkobnVsbCwgY2h1bmspKTsKICAgICAgeWllbGQgewogICAgICAgIHJlc3BvbnNlOiB7CiAgICAgICAgICBhY3Rpb246ICdhcHBlbmQnLAogICAgICAgICAgZmlsZTogZmlsZS5uYW1lLAogICAgICAgICAgZGF0YTogYmFzZTY0LAogICAgICAgIH0sCiAgICAgIH07CiAgICAgIHBlcmNlbnQudGV4dENvbnRlbnQgPQogICAgICAgICAgYCR7TWF0aC5yb3VuZCgocG9zaXRpb24gLyBmaWxlRGF0YS5ieXRlTGVuZ3RoKSAqIDEwMCl9JSBkb25lYDsKICAgIH0KICB9CgogIC8vIEFsbCBkb25lLgogIHlpZWxkIHsKICAgIHJlc3BvbnNlOiB7CiAgICAgIGFjdGlvbjogJ2NvbXBsZXRlJywKICAgIH0KICB9Owp9CgpzY29wZS5nb29nbGUgPSBzY29wZS5nb29nbGUgfHwge307CnNjb3BlLmdvb2dsZS5jb2xhYiA9IHNjb3BlLmdvb2dsZS5jb2xhYiB8fCB7fTsKc2NvcGUuZ29vZ2xlLmNvbGFiLl9maWxlcyA9IHsKICBfdXBsb2FkRmlsZXMsCiAgX3VwbG9hZEZpbGVzQ29udGludWUsCn07Cn0pKHNlbGYpOwo=",
              "ok": true,
              "headers": [
                [
                  "content-type",
                  "application/javascript"
                ]
              ],
              "status": 200,
              "status_text": ""
            }
          },
          "base_uri": "https://localhost:8080/",
          "height": 71
        }
      },
      "source": [
        "from google.colab import files\n",
        "\n",
        "uploaded = files.upload()"
      ],
      "execution_count": 11,
      "outputs": [
        {
          "output_type": "display_data",
          "data": {
            "text/html": [
              "\n",
              "     <input type=\"file\" id=\"files-8c5b0d87-fd08-4385-9155-97b28e74716f\" name=\"files[]\" multiple disabled />\n",
              "     <output id=\"result-8c5b0d87-fd08-4385-9155-97b28e74716f\">\n",
              "      Upload widget is only available when the cell has been executed in the\n",
              "      current browser session. Please rerun this cell to enable.\n",
              "      </output>\n",
              "      <script src=\"/nbextensions/google.colab/files.js\"></script> "
            ],
            "text/plain": [
              "<IPython.core.display.HTML object>"
            ]
          },
          "metadata": {
            "tags": []
          }
        },
        {
          "output_type": "stream",
          "text": [
            "Saving photomask_trainingdata.zip to photomask_trainingdata.zip\n"
          ],
          "name": "stdout"
        }
      ]
    },
    {
      "cell_type": "code",
      "metadata": {
        "id": "kjdIMZ9eSNXH",
        "colab_type": "code",
        "outputId": "0139372c-77a7-4e6f-f094-7131361afbf1",
        "colab": {
          "base_uri": "https://localhost:8080/",
          "height": 119
        }
      },
      "source": [
        "!ls -la"
      ],
      "execution_count": 12,
      "outputs": [
        {
          "output_type": "stream",
          "text": [
            "total 3192\n",
            "drwxr-xr-x 1 root root    4096 Jun 28 12:17 .\n",
            "drwxr-xr-x 1 root root    4096 Jun 28 12:06 ..\n",
            "drwxr-xr-x 1 root root    4096 Jun 18 16:14 .config\n",
            "-rw-r--r-- 1 root root 3249054 Jun 28 12:18 photomask_trainingdata.zip\n",
            "drwxr-xr-x 1 root root    4096 Jun 18 16:14 sample_data\n"
          ],
          "name": "stdout"
        }
      ]
    },
    {
      "cell_type": "code",
      "metadata": {
        "id": "aqDN2K_7Tc-x",
        "colab_type": "code",
        "outputId": "fcce5ce2-4ff1-4325-c2da-96052295ed64",
        "colab": {
          "base_uri": "https://localhost:8080/",
          "height": 1000
        }
      },
      "source": [
        "!unzip photomask_trainingdata.zip -d dataset"
      ],
      "execution_count": 13,
      "outputs": [
        {
          "output_type": "stream",
          "text": [
            "Archive:  photomask_trainingdata.zip\n",
            "   creating: dataset/photomask_trainingdata/\n",
            "   creating: dataset/photomask_trainingdata/COMPLETE FEATURE/\n",
            "  inflating: dataset/photomask_trainingdata/COMPLETE FEATURE/026_2.tif  \n",
            "   creating: dataset/__MACOSX/\n",
            "   creating: dataset/__MACOSX/photomask_trainingdata/\n",
            "   creating: dataset/__MACOSX/photomask_trainingdata/COMPLETE FEATURE/\n",
            "  inflating: dataset/__MACOSX/photomask_trainingdata/COMPLETE FEATURE/._026_2.tif  \n",
            "  inflating: dataset/photomask_trainingdata/COMPLETE FEATURE/002_3.tif  \n",
            "  inflating: dataset/__MACOSX/photomask_trainingdata/COMPLETE FEATURE/._002_3.tif  \n",
            "  inflating: dataset/photomask_trainingdata/COMPLETE FEATURE/020_4.tif  \n",
            "  inflating: dataset/__MACOSX/photomask_trainingdata/COMPLETE FEATURE/._020_4.tif  \n",
            "  inflating: dataset/photomask_trainingdata/COMPLETE FEATURE/004_4.tif  \n",
            "  inflating: dataset/__MACOSX/photomask_trainingdata/COMPLETE FEATURE/._004_4.tif  \n",
            "  inflating: dataset/photomask_trainingdata/COMPLETE FEATURE/019_1.tif  \n",
            "  inflating: dataset/__MACOSX/photomask_trainingdata/COMPLETE FEATURE/._019_1.tif  \n",
            "  inflating: dataset/photomask_trainingdata/COMPLETE FEATURE/024_1.tif  \n",
            "  inflating: dataset/__MACOSX/photomask_trainingdata/COMPLETE FEATURE/._024_1.tif  \n",
            "  inflating: dataset/photomask_trainingdata/COMPLETE FEATURE/002_2.tif  \n",
            "  inflating: dataset/__MACOSX/photomask_trainingdata/COMPLETE FEATURE/._002_2.tif  \n",
            "  inflating: dataset/photomask_trainingdata/COMPLETE FEATURE/026_3.tif  \n",
            "  inflating: dataset/__MACOSX/photomask_trainingdata/COMPLETE FEATURE/._026_3.tif  \n",
            "  inflating: dataset/photomask_trainingdata/COMPLETE FEATURE/026_1.tif  \n",
            "  inflating: dataset/__MACOSX/photomask_trainingdata/COMPLETE FEATURE/._026_1.tif  \n",
            "  inflating: dataset/photomask_trainingdata/COMPLETE FEATURE/024_3.tif  \n",
            "  inflating: dataset/__MACOSX/photomask_trainingdata/COMPLETE FEATURE/._024_3.tif  \n",
            "  inflating: dataset/photomask_trainingdata/COMPLETE FEATURE/019_3.tif  \n",
            "  inflating: dataset/__MACOSX/photomask_trainingdata/COMPLETE FEATURE/._019_3.tif  \n",
            "  inflating: dataset/photomask_trainingdata/COMPLETE FEATURE/006_4.tif  \n",
            "  inflating: dataset/__MACOSX/photomask_trainingdata/COMPLETE FEATURE/._006_4.tif  \n",
            "  inflating: dataset/photomask_trainingdata/COMPLETE FEATURE/022_4.tif  \n",
            "  inflating: dataset/__MACOSX/photomask_trainingdata/COMPLETE FEATURE/._022_4.tif  \n",
            "  inflating: dataset/photomask_trainingdata/COMPLETE FEATURE/019_2.tif  \n",
            "  inflating: dataset/__MACOSX/photomask_trainingdata/COMPLETE FEATURE/._019_2.tif  \n",
            "  inflating: dataset/photomask_trainingdata/COMPLETE FEATURE/002_1.tif  \n",
            "  inflating: dataset/__MACOSX/photomask_trainingdata/COMPLETE FEATURE/._002_1.tif  \n",
            "  inflating: dataset/photomask_trainingdata/COMPLETE FEATURE/024_2.tif  \n",
            "  inflating: dataset/__MACOSX/photomask_trainingdata/COMPLETE FEATURE/._024_2.tif  \n",
            "  inflating: dataset/photomask_trainingdata/COMPLETE FEATURE/026_4.tif  \n",
            "  inflating: dataset/__MACOSX/photomask_trainingdata/COMPLETE FEATURE/._026_4.tif  \n",
            "  inflating: dataset/photomask_trainingdata/COMPLETE FEATURE/004_3.tif  \n",
            "  inflating: dataset/__MACOSX/photomask_trainingdata/COMPLETE FEATURE/._004_3.tif  \n",
            "  inflating: dataset/photomask_trainingdata/COMPLETE FEATURE/020_2.tif  \n",
            "  inflating: dataset/__MACOSX/photomask_trainingdata/COMPLETE FEATURE/._020_2.tif  \n",
            "  inflating: dataset/photomask_trainingdata/COMPLETE FEATURE/022_1.tif  \n",
            "  inflating: dataset/__MACOSX/photomask_trainingdata/COMPLETE FEATURE/._022_1.tif  \n",
            "  inflating: dataset/photomask_trainingdata/COMPLETE FEATURE/004_2.tif  \n",
            "  inflating: dataset/__MACOSX/photomask_trainingdata/COMPLETE FEATURE/._004_2.tif  \n",
            "  inflating: dataset/photomask_trainingdata/COMPLETE FEATURE/002_4.tif  \n",
            "  inflating: dataset/__MACOSX/photomask_trainingdata/COMPLETE FEATURE/._002_4.tif  \n",
            "  inflating: dataset/photomask_trainingdata/COMPLETE FEATURE/022_3.tif  \n",
            "  inflating: dataset/__MACOSX/photomask_trainingdata/COMPLETE FEATURE/._022_3.tif  \n",
            "  inflating: dataset/photomask_trainingdata/COMPLETE FEATURE/020_1.tif  \n",
            "  inflating: dataset/__MACOSX/photomask_trainingdata/COMPLETE FEATURE/._020_1.tif  \n",
            "  inflating: dataset/photomask_trainingdata/COMPLETE FEATURE/006_2.tif  \n",
            "  inflating: dataset/__MACOSX/photomask_trainingdata/COMPLETE FEATURE/._006_2.tif  \n",
            "  inflating: dataset/photomask_trainingdata/COMPLETE FEATURE/006_3.tif  \n",
            "  inflating: dataset/__MACOSX/photomask_trainingdata/COMPLETE FEATURE/._006_3.tif  \n",
            "  inflating: dataset/photomask_trainingdata/COMPLETE FEATURE/004_1.tif  \n",
            "  inflating: dataset/__MACOSX/photomask_trainingdata/COMPLETE FEATURE/._004_1.tif  \n",
            "  inflating: dataset/photomask_trainingdata/COMPLETE FEATURE/022_2.tif  \n",
            "  inflating: dataset/__MACOSX/photomask_trainingdata/COMPLETE FEATURE/._022_2.tif  \n",
            "  inflating: dataset/photomask_trainingdata/COMPLETE FEATURE/019_4.tif  \n",
            "  inflating: dataset/__MACOSX/photomask_trainingdata/COMPLETE FEATURE/._019_4.tif  \n",
            "  inflating: dataset/photomask_trainingdata/COMPLETE FEATURE/024_4.tif  \n",
            "  inflating: dataset/__MACOSX/photomask_trainingdata/COMPLETE FEATURE/._024_4.tif  \n",
            "  inflating: dataset/photomask_trainingdata/COMPLETE FEATURE/007_4.tif  \n",
            "  inflating: dataset/__MACOSX/photomask_trainingdata/COMPLETE FEATURE/._007_4.tif  \n",
            "  inflating: dataset/photomask_trainingdata/COMPLETE FEATURE/018_3.tif  \n",
            "  inflating: dataset/__MACOSX/photomask_trainingdata/COMPLETE FEATURE/._018_3.tif  \n",
            "  inflating: dataset/photomask_trainingdata/COMPLETE FEATURE/025_3.tif  \n",
            "  inflating: dataset/__MACOSX/photomask_trainingdata/COMPLETE FEATURE/._025_3.tif  \n",
            "  inflating: dataset/photomask_trainingdata/COMPLETE FEATURE/027_1.tif  \n",
            "  inflating: dataset/__MACOSX/photomask_trainingdata/COMPLETE FEATURE/._027_1.tif  \n",
            "  inflating: dataset/photomask_trainingdata/COMPLETE FEATURE/001_2.tif  \n",
            "  inflating: dataset/__MACOSX/photomask_trainingdata/COMPLETE FEATURE/._001_2.tif  \n",
            "  inflating: dataset/photomask_trainingdata/COMPLETE FEATURE/001_3.tif  \n",
            "  inflating: dataset/__MACOSX/photomask_trainingdata/COMPLETE FEATURE/._001_3.tif  \n",
            "  inflating: dataset/photomask_trainingdata/COMPLETE FEATURE/025_2.tif  \n",
            "  inflating: dataset/__MACOSX/photomask_trainingdata/COMPLETE FEATURE/._025_2.tif  \n",
            "  inflating: dataset/photomask_trainingdata/COMPLETE FEATURE/023_4.tif  \n",
            "  inflating: dataset/__MACOSX/photomask_trainingdata/COMPLETE FEATURE/._023_4.tif  \n",
            "  inflating: dataset/photomask_trainingdata/COMPLETE FEATURE/018_2.tif  \n",
            "  inflating: dataset/__MACOSX/photomask_trainingdata/COMPLETE FEATURE/._018_2.tif  \n",
            "  inflating: dataset/photomask_trainingdata/COMPLETE FEATURE/021_4.tif  \n",
            "  inflating: dataset/__MACOSX/photomask_trainingdata/COMPLETE FEATURE/._021_4.tif  \n",
            "  inflating: dataset/photomask_trainingdata/COMPLETE FEATURE/001_1.tif  \n",
            "  inflating: dataset/__MACOSX/photomask_trainingdata/COMPLETE FEATURE/._001_1.tif  \n",
            "  inflating: dataset/photomask_trainingdata/COMPLETE FEATURE/027_2.tif  \n",
            "  inflating: dataset/__MACOSX/photomask_trainingdata/COMPLETE FEATURE/._027_2.tif  \n",
            "  inflating: dataset/photomask_trainingdata/COMPLETE FEATURE/027_3.tif  \n",
            "  inflating: dataset/__MACOSX/photomask_trainingdata/COMPLETE FEATURE/._027_3.tif  \n",
            "  inflating: dataset/photomask_trainingdata/COMPLETE FEATURE/025_1.tif  \n",
            "  inflating: dataset/__MACOSX/photomask_trainingdata/COMPLETE FEATURE/._025_1.tif  \n",
            "  inflating: dataset/photomask_trainingdata/COMPLETE FEATURE/018_1.tif  \n",
            "  inflating: dataset/__MACOSX/photomask_trainingdata/COMPLETE FEATURE/._018_1.tif  \n",
            "  inflating: dataset/photomask_trainingdata/COMPLETE FEATURE/021_1.tif  \n",
            "  inflating: dataset/__MACOSX/photomask_trainingdata/COMPLETE FEATURE/._021_1.tif  \n",
            "  inflating: dataset/photomask_trainingdata/COMPLETE FEATURE/007_2.tif  \n",
            "  inflating: dataset/__MACOSX/photomask_trainingdata/COMPLETE FEATURE/._007_2.tif  \n",
            "  inflating: dataset/photomask_trainingdata/COMPLETE FEATURE/023_3.tif  \n",
            "  inflating: dataset/__MACOSX/photomask_trainingdata/COMPLETE FEATURE/._023_3.tif  \n",
            "  inflating: dataset/photomask_trainingdata/COMPLETE FEATURE/001_4.tif  \n",
            "  inflating: dataset/__MACOSX/photomask_trainingdata/COMPLETE FEATURE/._001_4.tif  \n",
            "  inflating: dataset/photomask_trainingdata/COMPLETE FEATURE/025_4.tif  \n",
            "  inflating: dataset/__MACOSX/photomask_trainingdata/COMPLETE FEATURE/._025_4.tif  \n",
            "  inflating: dataset/photomask_trainingdata/COMPLETE FEATURE/016.tif  \n",
            "  inflating: dataset/__MACOSX/photomask_trainingdata/COMPLETE FEATURE/._016.tif  \n",
            "  inflating: dataset/photomask_trainingdata/COMPLETE FEATURE/005_1.tif  \n",
            "  inflating: dataset/__MACOSX/photomask_trainingdata/COMPLETE FEATURE/._005_1.tif  \n",
            "  inflating: dataset/photomask_trainingdata/COMPLETE FEATURE/023_2.tif  \n",
            "  inflating: dataset/__MACOSX/photomask_trainingdata/COMPLETE FEATURE/._023_2.tif  \n",
            "  inflating: dataset/photomask_trainingdata/COMPLETE FEATURE/018_4.tif  \n",
            "  inflating: dataset/__MACOSX/photomask_trainingdata/COMPLETE FEATURE/._018_4.tif  \n",
            "  inflating: dataset/photomask_trainingdata/COMPLETE FEATURE/007_3.tif  \n",
            "  inflating: dataset/__MACOSX/photomask_trainingdata/COMPLETE FEATURE/._007_3.tif  \n",
            "  inflating: dataset/photomask_trainingdata/COMPLETE FEATURE/007_1.tif  \n",
            "  inflating: dataset/__MACOSX/photomask_trainingdata/COMPLETE FEATURE/._007_1.tif  \n",
            "  inflating: dataset/photomask_trainingdata/COMPLETE FEATURE/021_2.tif  \n",
            "  inflating: dataset/__MACOSX/photomask_trainingdata/COMPLETE FEATURE/._021_2.tif  \n",
            "  inflating: dataset/photomask_trainingdata/COMPLETE FEATURE/027_4.tif  \n",
            "  inflating: dataset/__MACOSX/photomask_trainingdata/COMPLETE FEATURE/._027_4.tif  \n",
            "  inflating: dataset/photomask_trainingdata/COMPLETE FEATURE/015.tif  \n",
            "  inflating: dataset/__MACOSX/photomask_trainingdata/COMPLETE FEATURE/._015.tif  \n",
            "  inflating: dataset/photomask_trainingdata/COMPLETE FEATURE/023_1.tif  \n",
            "  inflating: dataset/__MACOSX/photomask_trainingdata/COMPLETE FEATURE/._023_1.tif  \n",
            "  inflating: dataset/photomask_trainingdata/COMPLETE FEATURE/005_2.tif  \n",
            "  inflating: dataset/__MACOSX/photomask_trainingdata/COMPLETE FEATURE/._005_2.tif  \n",
            "  inflating: dataset/photomask_trainingdata/COMPLETE FEATURE/021_3.tif  \n",
            "  inflating: dataset/__MACOSX/photomask_trainingdata/COMPLETE FEATURE/._021_3.tif  \n",
            "  inflating: dataset/photomask_trainingdata/COMPLETE FEATURE/029_4.tif  \n",
            "  inflating: dataset/__MACOSX/photomask_trainingdata/COMPLETE FEATURE/._029_4.tif  \n",
            "  inflating: dataset/photomask_trainingdata/COMPLETE FEATURE/029_1.tif  \n",
            "  inflating: dataset/__MACOSX/photomask_trainingdata/COMPLETE FEATURE/._029_1.tif  \n",
            "  inflating: dataset/photomask_trainingdata/COMPLETE FEATURE/029_2.tif  \n",
            "  inflating: dataset/__MACOSX/photomask_trainingdata/COMPLETE FEATURE/._029_2.tif  \n",
            "  inflating: dataset/photomask_trainingdata/COMPLETE FEATURE/029_3.tif  \n",
            "  inflating: dataset/__MACOSX/photomask_trainingdata/COMPLETE FEATURE/._029_3.tif  \n",
            "  inflating: dataset/photomask_trainingdata/COMPLETE FEATURE/028_4.tif  \n",
            "  inflating: dataset/__MACOSX/photomask_trainingdata/COMPLETE FEATURE/._028_4.tif  \n",
            "  inflating: dataset/photomask_trainingdata/COMPLETE FEATURE/008_1.tif  \n",
            "  inflating: dataset/__MACOSX/photomask_trainingdata/COMPLETE FEATURE/._008_1.tif  \n",
            "  inflating: dataset/photomask_trainingdata/COMPLETE FEATURE/017_4.tif  \n",
            "  inflating: dataset/__MACOSX/photomask_trainingdata/COMPLETE FEATURE/._017_4.tif  \n",
            "  inflating: dataset/photomask_trainingdata/COMPLETE FEATURE/028_2.tif  \n",
            "  inflating: dataset/__MACOSX/photomask_trainingdata/COMPLETE FEATURE/._028_2.tif  \n",
            "  inflating: dataset/photomask_trainingdata/COMPLETE FEATURE/017_1.tif  \n",
            "  inflating: dataset/__MACOSX/photomask_trainingdata/COMPLETE FEATURE/._017_1.tif  \n",
            "  inflating: dataset/photomask_trainingdata/COMPLETE FEATURE/028_3.tif  \n",
            "  inflating: dataset/__MACOSX/photomask_trainingdata/COMPLETE FEATURE/._028_3.tif  \n",
            "  inflating: dataset/photomask_trainingdata/COMPLETE FEATURE/028_1.tif  \n",
            "  inflating: dataset/__MACOSX/photomask_trainingdata/COMPLETE FEATURE/._028_1.tif  \n",
            "  inflating: dataset/photomask_trainingdata/COMPLETE FEATURE/017_3.tif  \n",
            "  inflating: dataset/__MACOSX/photomask_trainingdata/COMPLETE FEATURE/._017_3.tif  \n",
            "  inflating: dataset/photomask_trainingdata/COMPLETE FEATURE/008_4.tif  \n",
            "  inflating: dataset/__MACOSX/photomask_trainingdata/COMPLETE FEATURE/._008_4.tif  \n",
            "  inflating: dataset/photomask_trainingdata/COMPLETE FEATURE/017_2.tif  \n",
            "  inflating: dataset/__MACOSX/photomask_trainingdata/COMPLETE FEATURE/._017_2.tif  \n",
            "  inflating: dataset/__MACOSX/photomask_trainingdata/._COMPLETE FEATURE  \n",
            "   creating: dataset/photomask_trainingdata/BORDERTOUCHER/\n",
            "  inflating: dataset/photomask_trainingdata/BORDERTOUCHER/006_1.tif  \n",
            "   creating: dataset/__MACOSX/photomask_trainingdata/BORDERTOUCHER/\n",
            "  inflating: dataset/__MACOSX/photomask_trainingdata/BORDERTOUCHER/._006_1.tif  \n",
            "  inflating: dataset/photomask_trainingdata/BORDERTOUCHER/020_3.tif  \n",
            "  inflating: dataset/__MACOSX/photomask_trainingdata/BORDERTOUCHER/._020_3.tif  \n",
            "  inflating: dataset/photomask_trainingdata/BORDERTOUCHER/011.tif  \n",
            "  inflating: dataset/__MACOSX/photomask_trainingdata/BORDERTOUCHER/._011.tif  \n",
            "  inflating: dataset/photomask_trainingdata/BORDERTOUCHER/010.tif  \n",
            "  inflating: dataset/__MACOSX/photomask_trainingdata/BORDERTOUCHER/._010.tif  \n",
            "  inflating: dataset/photomask_trainingdata/BORDERTOUCHER/012.tif  \n",
            "  inflating: dataset/__MACOSX/photomask_trainingdata/BORDERTOUCHER/._012.tif  \n",
            "  inflating: dataset/photomask_trainingdata/BORDERTOUCHER/005_4.tif  \n",
            "  inflating: dataset/__MACOSX/photomask_trainingdata/BORDERTOUCHER/._005_4.tif  \n",
            "  inflating: dataset/photomask_trainingdata/BORDERTOUCHER/005_3.tif  \n",
            "  inflating: dataset/__MACOSX/photomask_trainingdata/BORDERTOUCHER/._005_3.tif  \n",
            "  inflating: dataset/photomask_trainingdata/BORDERTOUCHER/030_4.tif  \n",
            "  inflating: dataset/__MACOSX/photomask_trainingdata/BORDERTOUCHER/._030_4.tif  \n",
            "  inflating: dataset/photomask_trainingdata/BORDERTOUCHER/030_1.tif  \n",
            "  inflating: dataset/__MACOSX/photomask_trainingdata/BORDERTOUCHER/._030_1.tif  \n",
            "  inflating: dataset/photomask_trainingdata/BORDERTOUCHER/030_3.tif  \n",
            "  inflating: dataset/__MACOSX/photomask_trainingdata/BORDERTOUCHER/._030_3.tif  \n",
            "  inflating: dataset/photomask_trainingdata/BORDERTOUCHER/009.tif  \n",
            "  inflating: dataset/__MACOSX/photomask_trainingdata/BORDERTOUCHER/._009.tif  \n",
            "  inflating: dataset/photomask_trainingdata/BORDERTOUCHER/030_2.tif  \n",
            "  inflating: dataset/__MACOSX/photomask_trainingdata/BORDERTOUCHER/._030_2.tif  \n",
            "  inflating: dataset/photomask_trainingdata/BORDERTOUCHER/031_4.tif  \n",
            "  inflating: dataset/__MACOSX/photomask_trainingdata/BORDERTOUCHER/._031_4.tif  \n",
            "  inflating: dataset/photomask_trainingdata/BORDERTOUCHER/008_2.tif  \n",
            "  inflating: dataset/__MACOSX/photomask_trainingdata/BORDERTOUCHER/._008_2.tif  \n",
            "  inflating: dataset/photomask_trainingdata/BORDERTOUCHER/033_4.tif  \n",
            "  inflating: dataset/__MACOSX/photomask_trainingdata/BORDERTOUCHER/._033_4.tif  \n",
            "  inflating: dataset/photomask_trainingdata/BORDERTOUCHER/008_3.tif  \n",
            "  inflating: dataset/__MACOSX/photomask_trainingdata/BORDERTOUCHER/._008_3.tif  \n",
            "  inflating: dataset/photomask_trainingdata/BORDERTOUCHER/031_3.tif  \n",
            "  inflating: dataset/__MACOSX/photomask_trainingdata/BORDERTOUCHER/._031_3.tif  \n",
            "  inflating: dataset/photomask_trainingdata/BORDERTOUCHER/033_1.tif  \n",
            "  inflating: dataset/__MACOSX/photomask_trainingdata/BORDERTOUCHER/._033_1.tif  \n",
            "  inflating: dataset/photomask_trainingdata/BORDERTOUCHER/031_2.tif  \n",
            "  inflating: dataset/__MACOSX/photomask_trainingdata/BORDERTOUCHER/._031_2.tif  \n",
            "  inflating: dataset/photomask_trainingdata/BORDERTOUCHER/033_2.tif  \n",
            "  inflating: dataset/__MACOSX/photomask_trainingdata/BORDERTOUCHER/._033_2.tif  \n",
            "  inflating: dataset/photomask_trainingdata/BORDERTOUCHER/033_3.tif  \n",
            "  inflating: dataset/__MACOSX/photomask_trainingdata/BORDERTOUCHER/._033_3.tif  \n",
            "  inflating: dataset/photomask_trainingdata/BORDERTOUCHER/031_1.tif  \n",
            "  inflating: dataset/__MACOSX/photomask_trainingdata/BORDERTOUCHER/._031_1.tif  \n",
            "  inflating: dataset/__MACOSX/photomask_trainingdata/._BORDERTOUCHER  \n",
            "   creating: dataset/photomask_trainingdata/NO FEATURE/\n",
            "  inflating: dataset/photomask_trainingdata/NO FEATURE/003_1.tif  \n",
            "   creating: dataset/__MACOSX/photomask_trainingdata/NO FEATURE/\n",
            "  inflating: dataset/__MACOSX/photomask_trainingdata/NO FEATURE/._003_1.tif  \n",
            "  inflating: dataset/photomask_trainingdata/NO FEATURE/003_3.tif  \n",
            "  inflating: dataset/__MACOSX/photomask_trainingdata/NO FEATURE/._003_3.tif  \n",
            "  inflating: dataset/photomask_trainingdata/NO FEATURE/003_2.tif  \n",
            "  inflating: dataset/__MACOSX/photomask_trainingdata/NO FEATURE/._003_2.tif  \n",
            "  inflating: dataset/photomask_trainingdata/NO FEATURE/013.tif  \n",
            "  inflating: dataset/__MACOSX/photomask_trainingdata/NO FEATURE/._013.tif  \n",
            "  inflating: dataset/photomask_trainingdata/NO FEATURE/003_4.tif  \n",
            "  inflating: dataset/__MACOSX/photomask_trainingdata/NO FEATURE/._003_4.tif  \n",
            "  inflating: dataset/photomask_trainingdata/NO FEATURE/032_4.tif  \n",
            "  inflating: dataset/__MACOSX/photomask_trainingdata/NO FEATURE/._032_4.tif  \n",
            "  inflating: dataset/photomask_trainingdata/NO FEATURE/014_4.tif  \n",
            "  inflating: dataset/__MACOSX/photomask_trainingdata/NO FEATURE/._014_4.tif  \n",
            "  inflating: dataset/photomask_trainingdata/NO FEATURE/032_2.tif  \n",
            "  inflating: dataset/__MACOSX/photomask_trainingdata/NO FEATURE/._032_2.tif  \n",
            "  inflating: dataset/photomask_trainingdata/NO FEATURE/014_1.tif  \n",
            "  inflating: dataset/__MACOSX/photomask_trainingdata/NO FEATURE/._014_1.tif  \n",
            "  inflating: dataset/photomask_trainingdata/NO FEATURE/032_3.tif  \n",
            "  inflating: dataset/__MACOSX/photomask_trainingdata/NO FEATURE/._032_3.tif  \n",
            "  inflating: dataset/photomask_trainingdata/NO FEATURE/014_2.tif  \n",
            "  inflating: dataset/__MACOSX/photomask_trainingdata/NO FEATURE/._014_2.tif  \n",
            "  inflating: dataset/photomask_trainingdata/NO FEATURE/032_1.tif  \n",
            "  inflating: dataset/__MACOSX/photomask_trainingdata/NO FEATURE/._032_1.tif  \n",
            "  inflating: dataset/photomask_trainingdata/NO FEATURE/014_3.tif  \n",
            "  inflating: dataset/__MACOSX/photomask_trainingdata/NO FEATURE/._014_3.tif  \n",
            "  inflating: dataset/__MACOSX/photomask_trainingdata/._NO FEATURE  \n",
            "  inflating: dataset/__MACOSX/._photomask_trainingdata  \n"
          ],
          "name": "stdout"
        }
      ]
    },
    {
      "cell_type": "code",
      "metadata": {
        "id": "YyONXtKgTlJI",
        "colab_type": "code",
        "colab": {}
      },
      "source": [
        "rm -r dataset/__MACOSX/"
      ],
      "execution_count": 0,
      "outputs": []
    },
    {
      "cell_type": "markdown",
      "metadata": {
        "id": "Vg_2f1mcSpJA",
        "colab_type": "text"
      },
      "source": [
        "## TF Dataset based on the files"
      ]
    },
    {
      "cell_type": "code",
      "metadata": {
        "id": "xb_gzYb2T38g",
        "colab_type": "code",
        "colab": {}
      },
      "source": [
        "dataset_path = 'dataset/photomask_trainingdata/'"
      ],
      "execution_count": 0,
      "outputs": []
    },
    {
      "cell_type": "code",
      "metadata": {
        "id": "HtoOoFjETtDw",
        "colab_type": "code",
        "outputId": "c403c998-7106-4173-bf59-d01d0478c9bb",
        "colab": {
          "base_uri": "https://localhost:8080/",
          "height": 119
        }
      },
      "source": [
        "!ls -la {dataset_path}"
      ],
      "execution_count": 7,
      "outputs": [
        {
          "output_type": "stream",
          "text": [
            "total 20\n",
            "drwxrwxrwx 5 root root 4096 Feb  5 17:17  .\n",
            "drwxr-xr-x 3 root root 4096 Jun 28 12:18  ..\n",
            "drwxrwxrwx 2 root root 4096 Feb  5 17:04  BORDERTOUCHER\n",
            "drwxrwxrwx 2 root root 4096 Feb  5 17:05 'COMPLETE FEATURE'\n",
            "drwxrwxrwx 2 root root 4096 Feb  5 17:04 'NO FEATURE'\n"
          ],
          "name": "stdout"
        }
      ]
    },
    {
      "cell_type": "code",
      "metadata": {
        "id": "HxeXXIvySsLQ",
        "colab_type": "code",
        "outputId": "5d173b0a-bf7c-4f3f-9e6e-7af280ad52f2",
        "colab": {
          "base_uri": "https://localhost:8080/",
          "height": 34
        }
      },
      "source": [
        "import tensorflow as tf\n",
        "\n",
        "tf.version.VERSION"
      ],
      "execution_count": 8,
      "outputs": [
        {
          "output_type": "execute_result",
          "data": {
            "text/plain": [
              "'2.0.0-beta1'"
            ]
          },
          "metadata": {
            "tags": []
          },
          "execution_count": 8
        }
      ]
    },
    {
      "cell_type": "code",
      "metadata": {
        "id": "ESlfgTKbVoqx",
        "colab_type": "code",
        "colab": {}
      },
      "source": [
        "work_image_size = [28, 28]\n",
        "\n",
        "batch_size = 16"
      ],
      "execution_count": 0,
      "outputs": []
    },
    {
      "cell_type": "code",
      "metadata": {
        "id": "nxYSelu-WGqG",
        "colab_type": "code",
        "colab": {}
      },
      "source": [
        "from os import listdir, path\n",
        "\n",
        "class_names = listdir(dataset_path)\n",
        "# print(class_names)\n",
        "\n",
        "class_folders = [(idx, path.join(dataset_path, class_name)) for idx, class_name in enumerate(class_names)]\n",
        "# print(class_folders)"
      ],
      "execution_count": 0,
      "outputs": []
    },
    {
      "cell_type": "code",
      "metadata": {
        "id": "rBRpk3phUyBm",
        "colab_type": "code",
        "outputId": "5728a295-d4af-4edf-a26e-68443cd36639",
        "colab": {
          "base_uri": "https://localhost:8080/",
          "height": 34
        }
      },
      "source": [
        "filenames = []\n",
        "class_ids = []\n",
        "for class_id, folder in class_folders:\n",
        "  files = listdir(folder)\n",
        "  \n",
        "  filenames.extend([path.join(folder, filename) for filename in listdir(folder)])\n",
        "  class_ids.extend([class_id for filename in listdir(folder)])\n",
        "\n",
        "\n",
        "print(len(filenames))\n",
        "assert len(class_ids) == len(class_ids)"
      ],
      "execution_count": 11,
      "outputs": [
        {
          "output_type": "stream",
          "text": [
            "111\n"
          ],
          "name": "stdout"
        }
      ]
    },
    {
      "cell_type": "markdown",
      "metadata": {
        "id": "wH2NMVREDUA7",
        "colab_type": "text"
      },
      "source": [
        "Unfortunately `tf.py_function` can only return a tuple. With generic `map` we can work with `dict` interface"
      ]
    },
    {
      "cell_type": "code",
      "metadata": {
        "id": "xnWV25GPuMGE",
        "colab_type": "code",
        "colab": {}
      },
      "source": [
        "from PIL import Image\n",
        "import numpy as np\n",
        "\n",
        "def parse_tiff_py(filename, class_id):\n",
        "    print(filename.numpy())\n",
        "    \n",
        "    im = Image.open(filename.numpy())\n",
        "    im = im.resize(work_image_size)\n",
        "    \n",
        "    return np.array(im), class_id"
      ],
      "execution_count": 0,
      "outputs": []
    },
    {
      "cell_type": "markdown",
      "metadata": {
        "id": "hZ1NDRvMDseJ",
        "colab_type": "text"
      },
      "source": [
        "Now we just need to add our python function to `dataset` pipeline. We can do with follow `lambda` trick"
      ]
    },
    {
      "cell_type": "code",
      "metadata": {
        "id": "LOhA4Ym8U2Hz",
        "colab_type": "code",
        "outputId": "ec62371c-f5dc-40fa-d9d8-c76f83ca162c",
        "colab": {
          "base_uri": "https://localhost:8080/",
          "height": 34
        }
      },
      "source": [
        "dataset = tf.data.Dataset.from_tensor_slices((filenames, class_ids))\n",
        "dataset = dataset.shuffle(len(filenames))\n",
        "\n",
        "dataset = dataset.map(lambda filename, label: tf.py_function(\n",
        "              parse_tiff_py, \n",
        "              (filename, label),  \n",
        "              [tf.uint8, label.dtype])\n",
        "          )\n",
        "\n",
        "dataset"
      ],
      "execution_count": 27,
      "outputs": [
        {
          "output_type": "execute_result",
          "data": {
            "text/plain": [
              "<MapDataset shapes: (<unknown>, <unknown>), types: (tf.uint8, tf.int32)>"
            ]
          },
          "metadata": {
            "tags": []
          },
          "execution_count": 27
        }
      ]
    },
    {
      "cell_type": "code",
      "metadata": {
        "id": "rDG_Sg5eZNjM",
        "colab_type": "code",
        "outputId": "0f916179-c573-4465-8fa8-0d46c1c17061",
        "colab": {
          "base_uri": "https://localhost:8080/",
          "height": 1000
        }
      },
      "source": [
        "for row in dataset.take(1):\n",
        "  print(row)\n",
        "  image = row[0]\n",
        "  label = row[1]\n",
        "  \n",
        "  print(image.shape)"
      ],
      "execution_count": 31,
      "outputs": [
        {
          "output_type": "stream",
          "text": [
            "b'dataset/photomask_trainingdata/COMPLETE FEATURE/024_2.tif'\n",
            "(<tf.Tensor: id=216, shape=(28, 28), dtype=uint8, numpy=\n",
            "array([[ 33,  18,  75,  51,  39,  53,  96,  94,  70,  86,  59,  27,  95,\n",
            "         41,  48,  71,  96,  80,  71,  60,  71,  61,  75,  61,  38,  42,\n",
            "         40,  14],\n",
            "       [ 79,  30,  58,  36,  40,  35,  39,  40,  82,  39,  72,  24,  45,\n",
            "         52,  48,  93,  22,  77,  48,  29,  97,  43,  81,  42,  66,  37,\n",
            "         65,  81],\n",
            "       [ 61,  44,  62,  61,  50,  65,  86,  41,  16, 103, 101,  73,  78,\n",
            "         55,  39,  32,  70,  69,  46,  50,  19,  36,  53,  39,  65,  23,\n",
            "         41,  67],\n",
            "       [ 41,  65,  52,  18,  64,  38,  70,  46,  26,  59,  50,  48,  98,\n",
            "         60,  66,  84, 114,  44,  84,  73,  59,  63,  31,  23,  44,  30,\n",
            "         50,  48],\n",
            "       [ 35,  16,  40,  90,  25,  34,  32,  77,  46,  49, 124,  99,  72,\n",
            "         52,  87,  13,  83,  43,  41,  70,  67,  70,  83,  64,  97,  35,\n",
            "         49,  41],\n",
            "       [ 82,  66,  44,  30,  38,  49,  40,  57,  45,  24,  55,  37,  72,\n",
            "         61,  59,  64,  53,  39,  75,  21,  43,  47,  30,  43,  27,  29,\n",
            "         61,  46],\n",
            "       [ 40,  47,  96,  21,  67,  20,  40,  81,  40,  59,  27,  29,  68,\n",
            "         54,  48,  67,  48,  48,  58,  60, 109,  86,  27,  59,  44,  39,\n",
            "         35,  53],\n",
            "       [ 38,  51,  44,  29,  50,  67,  52,  76,   9,  69,  73,  37,  71,\n",
            "         77,  40,  55,  45, 102,  96,  52,  59,  33,  13,  76,  36,  34,\n",
            "         88,  48],\n",
            "       [ 51,  55,  29,  63,  55,  74,  91,  63,  85,  66,  31,  69,  80,\n",
            "         54,  79,  70,  76,  47,  82,  66,   6,  62, 119,  70,  74,  34,\n",
            "         59,  40],\n",
            "       [ 96,  66,  71,  44,  22,  52,  12,  77,  83,  22,  83,  28,  28,\n",
            "         80,  88,  80,  84,  38,  54,  75,  38,  53,  90,  55,  70,  30,\n",
            "         49,  48],\n",
            "       [ 81,  83,  57,  67,  52,  46,  48,  74,  77,  70,  34,  95,  87,\n",
            "        112,  99, 120,  24,  65,  66,  54, 104,  78,  83, 101,  57,  45,\n",
            "         72,  92],\n",
            "       [ 46,  51,  34,  30,  83,  67,  75,  47,  42,  94, 111, 161, 176,\n",
            "        161, 169,  75, 121,  44,  53,  25,  61,  83,  80,  69,  78,  76,\n",
            "         66,  89],\n",
            "       [ 51,  50,  66,  74,  56,  71,  85,  17,  42,  62,  87, 117, 183,\n",
            "        199, 113, 113,  69,  84,  47,  51,  32,  32,  26,  39,  63,  77,\n",
            "         35,  70],\n",
            "       [ 61,  99,  82,  89,  19,  75,  95,  64,   9,  30,  84,  75, 140,\n",
            "        151, 173,  85, 134,  51,  81,  20,  56,  85,  69,  58,  70,  93,\n",
            "         48,  29],\n",
            "       [ 43,  35,  26,  67,  56,  34,  49,  32,  62, 110, 146, 181, 136,\n",
            "        138, 161, 171, 101,  34,  65,  54,  39,  57,  95, 108,  17, 104,\n",
            "         63,  75],\n",
            "       [ 32,  84,  45, 111,  53, 107,  51,  45,  41,  66, 111, 178,  73,\n",
            "        104, 119, 126,   8,  50,  43,  24,  53,  60,  79,  49,  45,  46,\n",
            "         37,  56],\n",
            "       [ 61,  50,  41,  69,  72,  59,  30,  47,  15,  64,  88, 109,  60,\n",
            "         71,  65,  17,  37,  33,  12,  26,  34,  64,  42,  61,  32,  41,\n",
            "         31,  55],\n",
            "       [ 54,  50,  86,  71,  79,  76,  24,  35,  26,  33,  85,  30,  24,\n",
            "         47,  53,  59,   0,   2,  66,  51,  42,  67,  62,  44,  41,  78,\n",
            "         50,  72],\n",
            "       [139,  56,  52, 116,  43,  82,  86,  44,  33,  43,  43,  54,  61,\n",
            "         22,  67,  41,  44,  42,  37,  38,  56,   0,  60,  88,  46,  25,\n",
            "         85,  49],\n",
            "       [ 67,  29,  35,  51,  69,  17,  50,  54,  80,  38,  40,  86,  42,\n",
            "         31,  51,   2,  63,  53,  73,  32,  51,  35,  39,  80, 121,  63,\n",
            "         39,  70],\n",
            "       [100,  30,  19,  49,  60,  55,  51,  81,  76,  46,  68,  42,  58,\n",
            "         36,  32,  30, 102,  82,   7,  48,  37,  14,  58,  20,  74,  45,\n",
            "         12,  76],\n",
            "       [114,  71,  57,  65,  65,  61,  47,  20,  41,  92,  27,  60,   8,\n",
            "         88,  42,  37,  72,  10,  79,  34,  45,  31,  54,  47,  27,  94,\n",
            "         48,  65],\n",
            "       [ 79,  43,  42,  32,  74,  91,  23,  64,  66,  84,  98,  87,  72,\n",
            "         50, 106,  15,  52,  83,  73,  26,  33,  87,  51,  22,  14,  94,\n",
            "        105,  76],\n",
            "       [101,  48,  40,  82,  42,  88,  67,  43, 106,  69,  58,  73,  65,\n",
            "         45,  57,  53,  42, 115,  94,  37,  73,  60,  83,  47,  50,  63,\n",
            "         82,  64],\n",
            "       [ 70,  32,  51,  83,  40,  43,  71,  87,  27,  42,  28,  57, 118,\n",
            "         84,  65,  79,  31,  83,  18,   7,  89,  88,  79,  63,  11,  55,\n",
            "         55,  98],\n",
            "       [  9,  51,  84,  74,  84,  31, 101,  63,  49,  75,  80,  54,  43,\n",
            "         21,  51,  12,  53,  37,  40,  95,  64,  78,  65,  40, 105,  30,\n",
            "         89,  43],\n",
            "       [ 52, 100,  14,  58,  19,  68,  52,  95,  59,  93,  54,  63,  52,\n",
            "         56,  61,  32,  76,  85,  54,  66,  92,  81,  44,  33,  68,  58,\n",
            "        103,  83],\n",
            "       [ 48,  43, 100,  49, 110,  18,  70,  35, 137,  59,  52,  90,  44,\n",
            "        124,  61,  57,  98,  57,  75,  60,  82,  49,  37,  57,  41,  43,\n",
            "         57,  79]], dtype=uint8)>, <tf.Tensor: id=217, shape=(), dtype=int32, numpy=2>)\n",
            "(28, 28)\n"
          ],
          "name": "stdout"
        }
      ]
    },
    {
      "cell_type": "code",
      "metadata": {
        "id": "zl0cR3ZWuoGy",
        "colab_type": "code",
        "outputId": "671e649a-3d85-4a7b-a6fd-7c311d38627f",
        "colab": {
          "base_uri": "https://localhost:8080/",
          "height": 303
        }
      },
      "source": [
        "import matplotlib.pyplot as plt\n",
        "\n",
        "print(image.shape)\n",
        "plt.imshow(image, cmap=plt.get_cmap(\"gray\"))\n",
        "\n",
        "print(f\"Label - {class_names[label]}\")"
      ],
      "execution_count": 15,
      "outputs": [
        {
          "output_type": "stream",
          "text": [
            "(28, 28)\n",
            "Label - BORDERTOUCHER\n"
          ],
          "name": "stdout"
        },
        {
          "output_type": "display_data",
          "data": {
            "image/png": "[encoded data removed]",
            "text/plain": [
              "<Figure size 432x288 with 1 Axes>"
            ]
          },
          "metadata": {
            "tags": []
          }
        }
      ]
    },
    {
      "cell_type": "markdown",
      "metadata": {
        "id": "YnXafs9lEjlJ",
        "colab_type": "text"
      },
      "source": [
        "# TemsorFlow Addons"
      ]
    },
    {
      "cell_type": "code",
      "metadata": {
        "id": "PXffDK7_Eo5C",
        "colab_type": "code",
        "outputId": "43682968-ef36-4b92-ca88-28c0e1b253d7",
        "colab": {
          "base_uri": "https://localhost:8080/",
          "height": 752
        }
      },
      "source": [
        "!pip install tensorflow-io-2.0-preview"
      ],
      "execution_count": 25,
      "outputs": [
        {
          "output_type": "stream",
          "text": [
            "Collecting tensorflow-io-2.0-preview\n",
            "\u001b[?25l  Downloading https://files.pythonhosted.org/packages/2b/f5/e89140c8a1f50c075e3d3458a54846d915164ba5b6dda7c8b58b34ca456b/tensorflow_io_2.0_preview-0.7.0.dev1107-cp36-cp36m-manylinux1_x86_64.whl (54.4MB)\n",
            "\u001b[K     |████████████████████████████████| 54.4MB 1.9MB/s \n",
            "\u001b[?25hCollecting tensorflow==2.0.0b1 (from tensorflow-io-2.0-preview)\n",
            "\u001b[?25l  Downloading https://files.pythonhosted.org/packages/29/6c/2c9a5c4d095c63c2fb37d20def0e4f92685f7aee9243d6aae25862694fd1/tensorflow-2.0.0b1-cp36-cp36m-manylinux1_x86_64.whl (87.9MB)\n",
            "\u001b[K     |████████████████████████████████| 87.9MB 30.0MB/s \n",
            "\u001b[?25hRequirement already satisfied: numpy<2.0,>=1.14.5 in /usr/local/lib/python3.6/dist-packages (from tensorflow==2.0.0b1->tensorflow-io-2.0-preview) (1.16.4)\n",
            "Requirement already satisfied: google-pasta>=0.1.6 in /usr/local/lib/python3.6/dist-packages (from tensorflow==2.0.0b1->tensorflow-io-2.0-preview) (0.1.7)\n",
            "Requirement already satisfied: wrapt>=1.11.1 in /usr/local/lib/python3.6/dist-packages (from tensorflow==2.0.0b1->tensorflow-io-2.0-preview) (1.11.1)\n",
            "Requirement already satisfied: grpcio>=1.8.6 in /usr/local/lib/python3.6/dist-packages (from tensorflow==2.0.0b1->tensorflow-io-2.0-preview) (1.15.0)\n",
            "Requirement already satisfied: astor>=0.6.0 in /usr/local/lib/python3.6/dist-packages (from tensorflow==2.0.0b1->tensorflow-io-2.0-preview) (0.8.0)\n",
            "Requirement already satisfied: keras-applications>=1.0.6 in /usr/local/lib/python3.6/dist-packages (from tensorflow==2.0.0b1->tensorflow-io-2.0-preview) (1.0.8)\n",
            "Collecting tb-nightly<1.14.0a20190604,>=1.14.0a20190603 (from tensorflow==2.0.0b1->tensorflow-io-2.0-preview)\n",
            "\u001b[?25l  Downloading https://files.pythonhosted.org/packages/a4/96/571b875cd81dda9d5dfa1422a4f9d749e67c0a8d4f4f0b33a4e5f5f35e27/tb_nightly-1.14.0a20190603-py3-none-any.whl (3.1MB)\n",
            "\u001b[K     |████████████████████████████████| 3.1MB 30.5MB/s \n",
            "\u001b[?25hRequirement already satisfied: keras-preprocessing>=1.0.5 in /usr/local/lib/python3.6/dist-packages (from tensorflow==2.0.0b1->tensorflow-io-2.0-preview) (1.1.0)\n",
            "Requirement already satisfied: gast>=0.2.0 in /usr/local/lib/python3.6/dist-packages (from tensorflow==2.0.0b1->tensorflow-io-2.0-preview) (0.2.2)\n",
            "Requirement already satisfied: protobuf>=3.6.1 in /usr/local/lib/python3.6/dist-packages (from tensorflow==2.0.0b1->tensorflow-io-2.0-preview) (3.7.1)\n",
            "Collecting tf-estimator-nightly<1.14.0.dev2019060502,>=1.14.0.dev2019060501 (from tensorflow==2.0.0b1->tensorflow-io-2.0-preview)\n",
            "\u001b[?25l  Downloading https://files.pythonhosted.org/packages/32/dd/99c47dd007dcf10d63fd895611b063732646f23059c618a373e85019eb0e/tf_estimator_nightly-1.14.0.dev2019060501-py2.py3-none-any.whl (496kB)\n",
            "\u001b[K     |████████████████████████████████| 501kB 42.0MB/s \n",
            "\u001b[?25hRequirement already satisfied: termcolor>=1.1.0 in /usr/local/lib/python3.6/dist-packages (from tensorflow==2.0.0b1->tensorflow-io-2.0-preview) (1.1.0)\n",
            "Requirement already satisfied: six>=1.10.0 in /usr/local/lib/python3.6/dist-packages (from tensorflow==2.0.0b1->tensorflow-io-2.0-preview) (1.12.0)\n",
            "Requirement already satisfied: wheel>=0.26 in /usr/local/lib/python3.6/dist-packages (from tensorflow==2.0.0b1->tensorflow-io-2.0-preview) (0.33.4)\n",
            "Requirement already satisfied: absl-py>=0.7.0 in /usr/local/lib/python3.6/dist-packages (from tensorflow==2.0.0b1->tensorflow-io-2.0-preview) (0.7.1)\n",
            "Requirement already satisfied: h5py in /usr/local/lib/python3.6/dist-packages (from keras-applications>=1.0.6->tensorflow==2.0.0b1->tensorflow-io-2.0-preview) (2.8.0)\n",
            "Requirement already satisfied: markdown>=2.6.8 in /usr/local/lib/python3.6/dist-packages (from tb-nightly<1.14.0a20190604,>=1.14.0a20190603->tensorflow==2.0.0b1->tensorflow-io-2.0-preview) (3.1.1)\n",
            "Requirement already satisfied: setuptools>=41.0.0 in /usr/local/lib/python3.6/dist-packages (from tb-nightly<1.14.0a20190604,>=1.14.0a20190603->tensorflow==2.0.0b1->tensorflow-io-2.0-preview) (41.0.1)\n",
            "Requirement already satisfied: werkzeug>=0.11.15 in /usr/local/lib/python3.6/dist-packages (from tb-nightly<1.14.0a20190604,>=1.14.0a20190603->tensorflow==2.0.0b1->tensorflow-io-2.0-preview) (0.15.4)\n",
            "Installing collected packages: tb-nightly, tf-estimator-nightly, tensorflow, tensorflow-io-2.0-preview\n",
            "  Found existing installation: tb-nightly 1.14.0a20190614\n",
            "    Uninstalling tb-nightly-1.14.0a20190614:\n",
            "      Successfully uninstalled tb-nightly-1.14.0a20190614\n",
            "  Found existing installation: tensorflow 1.14.0rc1\n",
            "    Uninstalling tensorflow-1.14.0rc1:\n",
            "      Successfully uninstalled tensorflow-1.14.0rc1\n",
            "Successfully installed tb-nightly-1.14.0a20190603 tensorflow-2.0.0b1 tensorflow-io-2.0-preview-0.7.0.dev1107 tf-estimator-nightly-1.14.0.dev2019060501\n"
          ],
          "name": "stdout"
        },
        {
          "output_type": "display_data",
          "data": {
            "application/vnd.colab-display-data+json": {
              "pip_warning": {
                "packages": [
                  "tensorboard",
                  "tensorflow",
                  "tensorflow_estimator"
                ]
              }
            }
          },
          "metadata": {
            "tags": []
          }
        }
      ]
    },
    {
      "cell_type": "code",
      "metadata": {
        "id": "LrCRUvMtFeFm",
        "colab_type": "code",
        "colab": {}
      },
      "source": [
        "from tensorflow_io.image import TIFFDataset"
      ],
      "execution_count": 0,
      "outputs": []
    },
    {
      "cell_type": "code",
      "metadata": {
        "id": "TtiH6wW0GAxY",
        "colab_type": "code",
        "colab": {}
      },
      "source": [
        "dataset = TIFFDataset(filenames)\n",
        "dataset = dataset.shuffle(len(filenames))"
      ],
      "execution_count": 0,
      "outputs": []
    },
    {
      "cell_type": "code",
      "metadata": {
        "id": "hldWEvD6CBcH",
        "colab_type": "code",
        "colab": {
          "base_uri": "https://localhost:8080/",
          "height": 85
        },
        "outputId": "8eff4c40-66b3-4272-f03e-3189fc379468"
      },
      "source": [
        "for image in dataset.take(4):\n",
        "  print(image.shape)"
      ],
      "execution_count": 68,
      "outputs": [
        {
          "output_type": "stream",
          "text": [
            "(131, 131, 4)\n",
            "(194, 194, 4)\n",
            "(123, 123, 4)\n",
            "(86, 86, 4)\n"
          ],
          "name": "stdout"
        }
      ]
    },
    {
      "cell_type": "code",
      "metadata": {
        "id": "dz0Od3TPTUOw",
        "colab_type": "code",
        "outputId": "ab7a2130-9a9f-4414-9f37-7a7db6410a59",
        "colab": {
          "base_uri": "https://localhost:8080/",
          "height": 303
        }
      },
      "source": [
        "print(image.shape)\n",
        "plt.imshow(image.numpy(), cmap=plt.get_cmap(\"gray\"))"
      ],
      "execution_count": 69,
      "outputs": [
        {
          "output_type": "stream",
          "text": [
            "(86, 86, 4)\n"
          ],
          "name": "stdout"
        },
        {
          "output_type": "execute_result",
          "data": {
            "text/plain": [
              "<matplotlib.image.AxesImage at 0x7f90b76aae80>"
            ]
          },
          "metadata": {
            "tags": []
          },
          "execution_count": 69
        },
        {
          "output_type": "display_data",
          "data": {
            "image/png": "[encoded data removed]",
            "text/plain": [
              "<Figure size 432x288 with 1 Axes>"
            ]
          },
          "metadata": {
            "tags": []
          }
        }
      ]
    },
    {
      "cell_type": "code",
      "metadata": {
        "id": "QLiio1VcJbX0",
        "colab_type": "code",
        "colab": {}
      },
      "source": [
        ""
      ],
      "execution_count": 0,
      "outputs": []
    }
  ]
}